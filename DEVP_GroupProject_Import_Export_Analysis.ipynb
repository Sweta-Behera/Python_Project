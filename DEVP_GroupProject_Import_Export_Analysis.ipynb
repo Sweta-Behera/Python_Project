{
 "cells": [
  {
   "cell_type": "markdown",
   "id": "17eafe5f-0d1b-4c4b-ba89-929658d7ecd1",
   "metadata": {},
   "source": [
    "This dataset provides detailed information on international trade transactions, capturing both import and export activities. It includes comprehensive data on various aspects of trade, making it a valuable resource for business analysis, economic research, and financial modeling.\n"
   ]
  },
  {
   "cell_type": "markdown",
   "id": "cd2e0037-93c8-4970-8468-31b3dea3b6d0",
   "metadata": {},
   "source": [
    "This is the dataset of the trades of some countries. These are the columns in the dataset:\n",
    "\n",
    "- Transaction_ID: A unique identifier for each transaction.  \r\n",
    "\r\n",
    "- Country: The country involved in the transaction.   \r\n",
    "\r\n",
    "- Product: The product being transacted.   \r\n",
    "\r\n",
    "- Import_Export: Whether the transaction is an import or export.   \r\n",
    "\r\n",
    "- Quantity: The number of units involved in the transaction.   \r\n",
    "\r\n",
    "- Value: The monetary value of the transaction.  \r\n",
    "\r\n",
    "- Date: The date the transaction took place.  \r\n",
    "\r\n",
    "- Category: The category of the product. \r\n",
    "\r\n",
    "- Port: The port through which the transaction occurred. \r\n",
    "\r\n",
    "- Customs_Code: A code used for customs purposes.  \r\n",
    "\r\n",
    "- Weight: The weight of the goods involved.  \r\n",
    "\r\n",
    "- Shipping_Method: The method used for shipping the goods- .g., air, sea).  \r\n",
    "\r\n",
    " - Supplier: The company or individual supplying the product.  \r\n",
    "\r\n",
    "- Customer: The company or individual eceiving the product.  \r\n",
    "\r\n",
    " - Invoice_Number: The invoice numer for the transaction.  \r\n",
    "\r\n",
    " - Payment_Terms: The terms of payment agreed upon for the transaction. reed upon for the transaction. "
   ]
  },
  {
   "cell_type": "code",
   "execution_count": 18,
   "id": "6aac58bd-d886-4caa-a63a-1d40904047f6",
   "metadata": {},
   "outputs": [],
   "source": [
    "#iporting the required libraries\n",
    "import pandas as pd\n",
    "import numpy as np\n",
    "import matplotlib.pyplot as plt\n",
    "import scipy.stats as stats\n",
    "from scipy.stats import norm\n",
    "from scipy.stats import t"
   ]
  },
  {
   "cell_type": "code",
   "execution_count": 19,
   "id": "400c315d-64f2-45e8-8bc1-2d950ffbe954",
   "metadata": {},
   "outputs": [
    {
     "data": {
      "text/html": [
       "<div>\n",
       "<style scoped>\n",
       "    .dataframe tbody tr th:only-of-type {\n",
       "        vertical-align: middle;\n",
       "    }\n",
       "\n",
       "    .dataframe tbody tr th {\n",
       "        vertical-align: top;\n",
       "    }\n",
       "\n",
       "    .dataframe thead th {\n",
       "        text-align: right;\n",
       "    }\n",
       "</style>\n",
       "<table border=\"1\" class=\"dataframe\">\n",
       "  <thead>\n",
       "    <tr style=\"text-align: right;\">\n",
       "      <th></th>\n",
       "      <th>Transaction_ID</th>\n",
       "      <th>Country</th>\n",
       "      <th>Product</th>\n",
       "      <th>Import_Export</th>\n",
       "      <th>Quantity</th>\n",
       "      <th>Value</th>\n",
       "      <th>Date</th>\n",
       "      <th>Category</th>\n",
       "      <th>Port</th>\n",
       "      <th>Customs_Code</th>\n",
       "      <th>Weight</th>\n",
       "      <th>Shipping_Method</th>\n",
       "      <th>Supplier</th>\n",
       "      <th>Customer</th>\n",
       "      <th>Invoice_Number</th>\n",
       "      <th>Payment_Terms</th>\n",
       "    </tr>\n",
       "  </thead>\n",
       "  <tbody>\n",
       "    <tr>\n",
       "      <th>0</th>\n",
       "      <td>e3e70682-c209-4cac-a29f-6fbed82c07cd</td>\n",
       "      <td>Colombia</td>\n",
       "      <td>describe</td>\n",
       "      <td>Export</td>\n",
       "      <td>1979</td>\n",
       "      <td>9506.57</td>\n",
       "      <td>07-12-2023</td>\n",
       "      <td>Machinery</td>\n",
       "      <td>Robertbury</td>\n",
       "      <td>620537</td>\n",
       "      <td>4248.65</td>\n",
       "      <td>Air</td>\n",
       "      <td>Garrison, Hubbard and Hendricks</td>\n",
       "      <td>Seth Hall</td>\n",
       "      <td>21000294</td>\n",
       "      <td>Cash on Delivery</td>\n",
       "    </tr>\n",
       "    <tr>\n",
       "      <th>1</th>\n",
       "      <td>f728b4fa-4248-4e3a-8a5d-2f346baa9455</td>\n",
       "      <td>Chile</td>\n",
       "      <td>president</td>\n",
       "      <td>Export</td>\n",
       "      <td>5763</td>\n",
       "      <td>7100.91</td>\n",
       "      <td>04-04-2023</td>\n",
       "      <td>Clothing</td>\n",
       "      <td>Shahport</td>\n",
       "      <td>927600</td>\n",
       "      <td>4340.81</td>\n",
       "      <td>Air</td>\n",
       "      <td>Webb-Mack</td>\n",
       "      <td>Kimberly Ryan</td>\n",
       "      <td>88738432</td>\n",
       "      <td>Prepaid</td>\n",
       "    </tr>\n",
       "  </tbody>\n",
       "</table>\n",
       "</div>"
      ],
      "text/plain": [
       "                         Transaction_ID   Country    Product Import_Export  \\\n",
       "0  e3e70682-c209-4cac-a29f-6fbed82c07cd  Colombia   describe        Export   \n",
       "1  f728b4fa-4248-4e3a-8a5d-2f346baa9455     Chile  president        Export   \n",
       "\n",
       "   Quantity    Value        Date   Category        Port  Customs_Code  \\\n",
       "0      1979  9506.57  07-12-2023  Machinery  Robertbury        620537   \n",
       "1      5763  7100.91  04-04-2023   Clothing    Shahport        927600   \n",
       "\n",
       "    Weight Shipping_Method                         Supplier       Customer  \\\n",
       "0  4248.65             Air  Garrison, Hubbard and Hendricks      Seth Hall   \n",
       "1  4340.81             Air                        Webb-Mack  Kimberly Ryan   \n",
       "\n",
       "   Invoice_Number     Payment_Terms  \n",
       "0        21000294  Cash on Delivery  \n",
       "1        88738432           Prepaid  "
      ]
     },
     "execution_count": 19,
     "metadata": {},
     "output_type": "execute_result"
    }
   ],
   "source": [
    "# Define File Path and Import & Read Dataset\n",
    "ds = pd.read_csv(r\"C:\\Users\\Sweta Behera\\OneDrive\\MBA\\MBA\\FORE\\SUBJECT MATERIAL\\TERM 1\\Python\\python term project\\Imports_Exports_Dataset.csv\")\n",
    "\n",
    "# Display Dataset Information\n",
    "ds.head(2)"
   ]
  },
  {
   "cell_type": "code",
   "execution_count": 20,
   "id": "bac1f068-e4c8-403d-adcf-9504e5e8791d",
   "metadata": {},
   "outputs": [
    {
     "data": {
      "text/html": [
       "<div>\n",
       "<style scoped>\n",
       "    .dataframe tbody tr th:only-of-type {\n",
       "        vertical-align: middle;\n",
       "    }\n",
       "\n",
       "    .dataframe tbody tr th {\n",
       "        vertical-align: top;\n",
       "    }\n",
       "\n",
       "    .dataframe thead th {\n",
       "        text-align: right;\n",
       "    }\n",
       "</style>\n",
       "<table border=\"1\" class=\"dataframe\">\n",
       "  <thead>\n",
       "    <tr style=\"text-align: right;\">\n",
       "      <th></th>\n",
       "      <th>Quantity</th>\n",
       "      <th>Value</th>\n",
       "      <th>Customs_Code</th>\n",
       "      <th>Weight</th>\n",
       "      <th>Invoice_Number</th>\n",
       "    </tr>\n",
       "  </thead>\n",
       "  <tbody>\n",
       "    <tr>\n",
       "      <th>count</th>\n",
       "      <td>15000.000000</td>\n",
       "      <td>15000.000000</td>\n",
       "      <td>15000.00000</td>\n",
       "      <td>15000.000000</td>\n",
       "      <td>1.500000e+04</td>\n",
       "    </tr>\n",
       "    <tr>\n",
       "      <th>mean</th>\n",
       "      <td>4980.554733</td>\n",
       "      <td>5032.931120</td>\n",
       "      <td>549507.95920</td>\n",
       "      <td>2492.118859</td>\n",
       "      <td>5.020677e+07</td>\n",
       "    </tr>\n",
       "    <tr>\n",
       "      <th>std</th>\n",
       "      <td>2866.166690</td>\n",
       "      <td>2857.593897</td>\n",
       "      <td>260886.91886</td>\n",
       "      <td>1451.378507</td>\n",
       "      <td>2.889888e+07</td>\n",
       "    </tr>\n",
       "    <tr>\n",
       "      <th>min</th>\n",
       "      <td>1.000000</td>\n",
       "      <td>102.120000</td>\n",
       "      <td>100041.00000</td>\n",
       "      <td>0.570000</td>\n",
       "      <td>4.202600e+04</td>\n",
       "    </tr>\n",
       "    <tr>\n",
       "      <th>25%</th>\n",
       "      <td>2517.000000</td>\n",
       "      <td>2552.750000</td>\n",
       "      <td>325635.50000</td>\n",
       "      <td>1243.482500</td>\n",
       "      <td>2.527742e+07</td>\n",
       "    </tr>\n",
       "    <tr>\n",
       "      <th>50%</th>\n",
       "      <td>4958.500000</td>\n",
       "      <td>5045.705000</td>\n",
       "      <td>545432.00000</td>\n",
       "      <td>2476.135000</td>\n",
       "      <td>5.026745e+07</td>\n",
       "    </tr>\n",
       "    <tr>\n",
       "      <th>75%</th>\n",
       "      <td>7458.250000</td>\n",
       "      <td>7504.700000</td>\n",
       "      <td>777988.00000</td>\n",
       "      <td>3747.392500</td>\n",
       "      <td>7.510045e+07</td>\n",
       "    </tr>\n",
       "    <tr>\n",
       "      <th>max</th>\n",
       "      <td>10000.000000</td>\n",
       "      <td>9999.130000</td>\n",
       "      <td>999964.00000</td>\n",
       "      <td>4999.930000</td>\n",
       "      <td>9.999799e+07</td>\n",
       "    </tr>\n",
       "  </tbody>\n",
       "</table>\n",
       "</div>"
      ],
      "text/plain": [
       "           Quantity         Value  Customs_Code        Weight  Invoice_Number\n",
       "count  15000.000000  15000.000000   15000.00000  15000.000000    1.500000e+04\n",
       "mean    4980.554733   5032.931120  549507.95920   2492.118859    5.020677e+07\n",
       "std     2866.166690   2857.593897  260886.91886   1451.378507    2.889888e+07\n",
       "min        1.000000    102.120000  100041.00000      0.570000    4.202600e+04\n",
       "25%     2517.000000   2552.750000  325635.50000   1243.482500    2.527742e+07\n",
       "50%     4958.500000   5045.705000  545432.00000   2476.135000    5.026745e+07\n",
       "75%     7458.250000   7504.700000  777988.00000   3747.392500    7.510045e+07\n",
       "max    10000.000000   9999.130000  999964.00000   4999.930000    9.999799e+07"
      ]
     },
     "execution_count": 20,
     "metadata": {},
     "output_type": "execute_result"
    }
   ],
   "source": [
    "ds.describe()"
   ]
  },
  {
   "cell_type": "code",
   "execution_count": 21,
   "id": "b43753b0-e518-4f7b-9a9f-e8f9e9ef5c74",
   "metadata": {},
   "outputs": [],
   "source": [
    "#  Identify & Display the List of following Variables:\n",
    "# a) Index Variables: Transaction_ID\n",
    "# b) Non-Categorical Variables: Quantity, Value, Date, Weight\n",
    "# c) Categorical Variables - Nominal Type: Country, Product, Import_Export, Category, Port, Customs_Code, Shipping_Method, Supplier, Customer, Invoice_Number, Payment_Terms\n",
    "# d) Categorical Variables - Ordinal Type: None"
   ]
  },
  {
   "cell_type": "code",
   "execution_count": 22,
   "id": "45225285-a6b0-4dfd-b7bb-995d3e91e810",
   "metadata": {},
   "outputs": [
    {
     "data": {
      "text/html": [
       "<div>\n",
       "<style scoped>\n",
       "    .dataframe tbody tr th:only-of-type {\n",
       "        vertical-align: middle;\n",
       "    }\n",
       "\n",
       "    .dataframe tbody tr th {\n",
       "        vertical-align: top;\n",
       "    }\n",
       "\n",
       "    .dataframe thead th {\n",
       "        text-align: right;\n",
       "    }\n",
       "</style>\n",
       "<table border=\"1\" class=\"dataframe\">\n",
       "  <thead>\n",
       "    <tr style=\"text-align: right;\">\n",
       "      <th></th>\n",
       "      <th>Transaction_ID</th>\n",
       "      <th>Country</th>\n",
       "      <th>Product</th>\n",
       "      <th>Import_Export</th>\n",
       "      <th>Quantity</th>\n",
       "      <th>Value</th>\n",
       "      <th>Date</th>\n",
       "      <th>Category</th>\n",
       "      <th>Port</th>\n",
       "      <th>Customs_Code</th>\n",
       "      <th>Weight</th>\n",
       "      <th>Shipping_Method</th>\n",
       "      <th>Supplier</th>\n",
       "      <th>Customer</th>\n",
       "      <th>Invoice_Number</th>\n",
       "      <th>Payment_Terms</th>\n",
       "    </tr>\n",
       "  </thead>\n",
       "  <tbody>\n",
       "    <tr>\n",
       "      <th>4886</th>\n",
       "      <td>817fb15d-ca6b-49aa-89ad-4a03c465780b</td>\n",
       "      <td>Iraq</td>\n",
       "      <td>sing</td>\n",
       "      <td>Import</td>\n",
       "      <td>1713</td>\n",
       "      <td>9297.90</td>\n",
       "      <td>19-01-2020</td>\n",
       "      <td>Clothing</td>\n",
       "      <td>North Josephbury</td>\n",
       "      <td>554491</td>\n",
       "      <td>3904.08</td>\n",
       "      <td>Air</td>\n",
       "      <td>Hernandez, Fowler and Jimenez</td>\n",
       "      <td>Destiny Juarez</td>\n",
       "      <td>8481088</td>\n",
       "      <td>Prepaid</td>\n",
       "    </tr>\n",
       "    <tr>\n",
       "      <th>1108</th>\n",
       "      <td>3e5aed83-5272-4246-a57e-a412a2157489</td>\n",
       "      <td>Colombia</td>\n",
       "      <td>data</td>\n",
       "      <td>Export</td>\n",
       "      <td>3419</td>\n",
       "      <td>3961.62</td>\n",
       "      <td>24-11-2021</td>\n",
       "      <td>Toys</td>\n",
       "      <td>Milesberg</td>\n",
       "      <td>868846</td>\n",
       "      <td>3275.97</td>\n",
       "      <td>Land</td>\n",
       "      <td>Hughes, Sanchez and Love</td>\n",
       "      <td>Dylan Butler</td>\n",
       "      <td>17071361</td>\n",
       "      <td>Net 30</td>\n",
       "    </tr>\n",
       "  </tbody>\n",
       "</table>\n",
       "</div>"
      ],
      "text/plain": [
       "                            Transaction_ID   Country Product Import_Export  \\\n",
       "4886  817fb15d-ca6b-49aa-89ad-4a03c465780b      Iraq    sing        Import   \n",
       "1108  3e5aed83-5272-4246-a57e-a412a2157489  Colombia    data        Export   \n",
       "\n",
       "      Quantity    Value        Date  Category              Port  Customs_Code  \\\n",
       "4886      1713  9297.90  19-01-2020  Clothing  North Josephbury        554491   \n",
       "1108      3419  3961.62  24-11-2021      Toys         Milesberg        868846   \n",
       "\n",
       "       Weight Shipping_Method                       Supplier        Customer  \\\n",
       "4886  3904.08             Air  Hernandez, Fowler and Jimenez  Destiny Juarez   \n",
       "1108  3275.97            Land       Hughes, Sanchez and Love    Dylan Butler   \n",
       "\n",
       "      Invoice_Number Payment_Terms  \n",
       "4886         8481088       Prepaid  \n",
       "1108        17071361        Net 30  "
      ]
     },
     "execution_count": 22,
     "metadata": {},
     "output_type": "execute_result"
    }
   ],
   "source": [
    "#taking a sample out of the population\n",
    "sdset = ds.sample(n = 2001, random_state = 451)\n",
    "sdset.head(2)"
   ]
  },
  {
   "cell_type": "code",
   "execution_count": 23,
   "id": "c687937c-256d-44e3-b679-2c3d9a3600ef",
   "metadata": {},
   "outputs": [
    {
     "data": {
      "text/plain": [
       "(2001, 16)"
      ]
     },
     "execution_count": 23,
     "metadata": {},
     "output_type": "execute_result"
    }
   ],
   "source": [
    "sdset.shape"
   ]
  },
  {
   "cell_type": "code",
   "execution_count": 24,
   "id": "655c7585-9990-4109-8d1b-dc9b26f36fec",
   "metadata": {},
   "outputs": [
    {
     "name": "stdout",
     "output_type": "stream",
     "text": [
      "<class 'pandas.core.frame.DataFrame'>\n",
      "Index: 2001 entries, 4886 to 6676\n",
      "Data columns (total 16 columns):\n",
      " #   Column           Non-Null Count  Dtype  \n",
      "---  ------           --------------  -----  \n",
      " 0   Transaction_ID   2001 non-null   object \n",
      " 1   Country          2001 non-null   object \n",
      " 2   Product          2001 non-null   object \n",
      " 3   Import_Export    2001 non-null   object \n",
      " 4   Quantity         2001 non-null   int64  \n",
      " 5   Value            2001 non-null   float64\n",
      " 6   Date             2001 non-null   object \n",
      " 7   Category         2001 non-null   object \n",
      " 8   Port             2001 non-null   object \n",
      " 9   Customs_Code     2001 non-null   int64  \n",
      " 10  Weight           2001 non-null   float64\n",
      " 11  Shipping_Method  2001 non-null   object \n",
      " 12  Supplier         2001 non-null   object \n",
      " 13  Customer         2001 non-null   object \n",
      " 14  Invoice_Number   2001 non-null   int64  \n",
      " 15  Payment_Terms    2001 non-null   object \n",
      "dtypes: float64(2), int64(3), object(11)\n",
      "memory usage: 265.8+ KB\n"
     ]
    }
   ],
   "source": [
    "sdset.info()"
   ]
  },
  {
   "cell_type": "code",
   "execution_count": 25,
   "id": "7a27c15a-e35d-4843-8c49-63ee28ca249a",
   "metadata": {},
   "outputs": [
    {
     "data": {
      "text/html": [
       "<div>\n",
       "<style scoped>\n",
       "    .dataframe tbody tr th:only-of-type {\n",
       "        vertical-align: middle;\n",
       "    }\n",
       "\n",
       "    .dataframe tbody tr th {\n",
       "        vertical-align: top;\n",
       "    }\n",
       "\n",
       "    .dataframe thead th {\n",
       "        text-align: right;\n",
       "    }\n",
       "</style>\n",
       "<table border=\"1\" class=\"dataframe\">\n",
       "  <thead>\n",
       "    <tr style=\"text-align: right;\">\n",
       "      <th></th>\n",
       "      <th>Quantity</th>\n",
       "      <th>Value</th>\n",
       "      <th>Weight</th>\n",
       "    </tr>\n",
       "  </thead>\n",
       "  <tbody>\n",
       "    <tr>\n",
       "      <th>count</th>\n",
       "      <td>2001.000000</td>\n",
       "      <td>2001.000000</td>\n",
       "      <td>2001.000000</td>\n",
       "    </tr>\n",
       "    <tr>\n",
       "      <th>mean</th>\n",
       "      <td>5099.781609</td>\n",
       "      <td>5063.148821</td>\n",
       "      <td>2455.294468</td>\n",
       "    </tr>\n",
       "    <tr>\n",
       "      <th>std</th>\n",
       "      <td>2891.315465</td>\n",
       "      <td>2885.191335</td>\n",
       "      <td>1440.260862</td>\n",
       "    </tr>\n",
       "    <tr>\n",
       "      <th>min</th>\n",
       "      <td>15.000000</td>\n",
       "      <td>104.490000</td>\n",
       "      <td>2.860000</td>\n",
       "    </tr>\n",
       "    <tr>\n",
       "      <th>25%</th>\n",
       "      <td>2619.000000</td>\n",
       "      <td>2518.810000</td>\n",
       "      <td>1222.690000</td>\n",
       "    </tr>\n",
       "    <tr>\n",
       "      <th>50%</th>\n",
       "      <td>5116.000000</td>\n",
       "      <td>5090.180000</td>\n",
       "      <td>2387.170000</td>\n",
       "    </tr>\n",
       "    <tr>\n",
       "      <th>75%</th>\n",
       "      <td>7570.000000</td>\n",
       "      <td>7590.740000</td>\n",
       "      <td>3687.180000</td>\n",
       "    </tr>\n",
       "    <tr>\n",
       "      <th>max</th>\n",
       "      <td>9995.000000</td>\n",
       "      <td>9996.090000</td>\n",
       "      <td>4994.900000</td>\n",
       "    </tr>\n",
       "  </tbody>\n",
       "</table>\n",
       "</div>"
      ],
      "text/plain": [
       "          Quantity        Value       Weight\n",
       "count  2001.000000  2001.000000  2001.000000\n",
       "mean   5099.781609  5063.148821  2455.294468\n",
       "std    2891.315465  2885.191335  1440.260862\n",
       "min      15.000000   104.490000     2.860000\n",
       "25%    2619.000000  2518.810000  1222.690000\n",
       "50%    5116.000000  5090.180000  2387.170000\n",
       "75%    7570.000000  7590.740000  3687.180000\n",
       "max    9995.000000  9996.090000  4994.900000"
      ]
     },
     "execution_count": 25,
     "metadata": {},
     "output_type": "execute_result"
    }
   ],
   "source": [
    "#subsetting the non categorical variables\n",
    "ncat = sdset[['Quantity', 'Value', 'Date', 'Weight']]\n",
    "\n",
    "# displaying the descriptive statistics of the non categoriial data\n",
    "ncat.describe()"
   ]
  },
  {
   "cell_type": "code",
   "execution_count": 26,
   "id": "5dab1894-035b-46bc-be1e-bbd372637ba4",
   "metadata": {},
   "outputs": [
    {
     "name": "stdout",
     "output_type": "stream",
     "text": [
      "Quantity              9980.00\n",
      "Value                 9891.60\n",
      "Customs_Code        899782.00\n",
      "Weight                4992.04\n",
      "Invoice_Number    99917238.00\n",
      "dtype: float64\n"
     ]
    }
   ],
   "source": [
    "# taking out the numeric columns in the sample dataset\n",
    "numeric_columns = sdset.select_dtypes(include='number')  \n",
    "\n",
    "# Calculate the range for each numeric column\n",
    "range_values = numeric_columns.max() - numeric_columns.min()\n",
    "\n",
    "# Display the range for each column\n",
    "print(range_values)"
   ]
  },
  {
   "cell_type": "code",
   "execution_count": 27,
   "id": "f0dd5536-6d8f-4845-a788-054ea0e29999",
   "metadata": {},
   "outputs": [
    {
     "name": "stdout",
     "output_type": "stream",
     "text": [
      "Quantity         -1.179727\n",
      "Value            -1.215675\n",
      "Customs_Code     -1.215470\n",
      "Weight           -1.185340\n",
      "Invoice_Number   -1.187008\n",
      "dtype: float64\n"
     ]
    }
   ],
   "source": [
    "# taking out the numeric columns in the sample dataset\n",
    "numeric_columns = sdset.select_dtypes(include='number')  \n",
    "\n",
    "# Calculate the kurtosis for each numeric column\n",
    "kurtosis_values = numeric_columns.kurt()\n",
    "\n",
    "# Display the kurtosis for each column\n",
    "print(kurtosis_values)"
   ]
  },
  {
   "cell_type": "code",
   "execution_count": 28,
   "id": "4636da6f-744c-47f7-8250-bc754f877bfc",
   "metadata": {},
   "outputs": [
    {
     "data": {
      "text/html": [
       "<div>\n",
       "<style scoped>\n",
       "    .dataframe tbody tr th:only-of-type {\n",
       "        vertical-align: middle;\n",
       "    }\n",
       "\n",
       "    .dataframe tbody tr th {\n",
       "        vertical-align: top;\n",
       "    }\n",
       "\n",
       "    .dataframe thead th {\n",
       "        text-align: right;\n",
       "    }\n",
       "</style>\n",
       "<table border=\"1\" class=\"dataframe\">\n",
       "  <thead>\n",
       "    <tr style=\"text-align: right;\">\n",
       "      <th></th>\n",
       "      <th>Quantity</th>\n",
       "      <th>Value</th>\n",
       "      <th>Weight</th>\n",
       "    </tr>\n",
       "  </thead>\n",
       "  <tbody>\n",
       "    <tr>\n",
       "      <th>Quantity</th>\n",
       "      <td>1.0000</td>\n",
       "      <td>-0.027600</td>\n",
       "      <td>0.001600</td>\n",
       "    </tr>\n",
       "    <tr>\n",
       "      <th>Value</th>\n",
       "      <td>-0.0276</td>\n",
       "      <td>1.000000</td>\n",
       "      <td>0.036888</td>\n",
       "    </tr>\n",
       "    <tr>\n",
       "      <th>Weight</th>\n",
       "      <td>0.0016</td>\n",
       "      <td>0.036888</td>\n",
       "      <td>1.000000</td>\n",
       "    </tr>\n",
       "  </tbody>\n",
       "</table>\n",
       "</div>"
      ],
      "text/plain": [
       "          Quantity     Value    Weight\n",
       "Quantity    1.0000 -0.027600  0.001600\n",
       "Value      -0.0276  1.000000  0.036888\n",
       "Weight      0.0016  0.036888  1.000000"
      ]
     },
     "execution_count": 28,
     "metadata": {},
     "output_type": "execute_result"
    }
   ],
   "source": [
    "# Select relevant columns for correlation analysis\n",
    "selected_columns = ['Quantity', 'Value', 'Weight']\n",
    "\n",
    "# Create a subset DataFrame with selected columns\n",
    "correlation_data = sdset[selected_columns]\n",
    "\n",
    "# Compute the correlation matrix\n",
    "correlation_matrix = correlation_data.corr()\n",
    "\n",
    "correlation_matrix"
   ]
  },
  {
   "cell_type": "code",
   "execution_count": 29,
   "id": "b0869b55-fe74-49f9-a214-2f478905ee06",
   "metadata": {},
   "outputs": [
    {
     "data": {
      "text/plain": [
       "Index(['Transaction_ID', 'Country', 'Product', 'Import_Export', 'Quantity',\n",
       "       'Value', 'Date', 'Category', 'Port', 'Customs_Code', 'Weight',\n",
       "       'Shipping_Method', 'Supplier', 'Customer', 'Invoice_Number',\n",
       "       'Payment_Terms'],\n",
       "      dtype='object')"
      ]
     },
     "execution_count": 29,
     "metadata": {},
     "output_type": "execute_result"
    }
   ],
   "source": [
    "sdset.columns"
   ]
  },
  {
   "cell_type": "code",
   "execution_count": 30,
   "id": "00fb8e5c-ac06-47d0-b74f-414fa59a98f0",
   "metadata": {},
   "outputs": [],
   "source": [
    "#subseting the categorical data \n",
    "cat = sdset[['Country', 'Product', 'Import_Export', 'Category', 'Port', 'Customs_Code' , 'Shipping_Method', 'Supplier', 'Customer', 'Invoice_Number', 'Payment_Terms']]\n",
    "\n",
    "#displaying the descriptive statistics of the country variable\n",
    "ccat = cat.groupby('Country').count()\n",
    "\n"
   ]
  },
  {
   "cell_type": "code",
   "execution_count": 31,
   "id": "d810aeb7-a8f9-4334-8fe5-ac605640c490",
   "metadata": {},
   "outputs": [
    {
     "data": {
      "text/plain": [
       "(Country\n",
       " Suriname    19\n",
       " Name: count, dtype: int64,\n",
       " Country\n",
       " Taiwan    2\n",
       " Name: count, dtype: int64,\n",
       " Country\n",
       " Suriname      19\n",
       " Congo         18\n",
       " Bolivia       16\n",
       " Korea         15\n",
       " Serbia        15\n",
       "               ..\n",
       " Bangladesh     3\n",
       " Kiribati       2\n",
       " Swaziland      2\n",
       " Samoa          2\n",
       " Taiwan         2\n",
       " Name: count, Length: 243, dtype: int64)"
      ]
     },
     "execution_count": 31,
     "metadata": {},
     "output_type": "execute_result"
    }
   ],
   "source": [
    "#counting in the number of country in ranking\n",
    "vcount = cat[\"Country\"].value_counts()\n",
    "\n",
    "#displaying the maximum and minimum values and the ranking\n",
    "vcount.head(1), vcount.tail(1), vcount"
   ]
  },
  {
   "cell_type": "code",
   "execution_count": 32,
   "id": "ab5ed721-1ca5-49be-b4c9-0811b20ee0f8",
   "metadata": {},
   "outputs": [
    {
     "name": "stdout",
     "output_type": "stream",
     "text": [
      "Quantity    56.694888\n",
      "Value       56.984131\n",
      "Weight      58.659394\n",
      "dtype: float64\n"
     ]
    }
   ],
   "source": [
    "#calculating the coefficient of variance \n",
    "\n",
    "# Select numeric columns\n",
    "numeric_columns = sdset[[\"Quantity\", \"Value\", \"Weight\"]]\n",
    "\n",
    "# Calculate the coefficient of variation (CV) for each numeric column\n",
    "cv_values = (numeric_columns.std() / numeric_columns.mean()) * 100\n",
    "\n",
    "# Display the CV for each numeric column\n",
    "print(cv_values)\n"
   ]
  },
  {
   "cell_type": "code",
   "execution_count": 241,
   "id": "41db7e09-d5f7-4b50-a371-c7d2e920c22f",
   "metadata": {},
   "outputs": [
    {
     "data": {
      "text/plain": [
       "array([4907.73, 5158.14])"
      ]
     },
     "execution_count": 241,
     "metadata": {},
     "output_type": "execute_result"
    }
   ],
   "source": [
    "#calculating the confidence interval of value variable at 95% confidence level\n",
    "\n",
    "#describing the values\n",
    "N = len(sdset)\n",
    "population_mean = 5032.931120\n",
    "population_sd = 2857.593897\n",
    "confidence_level = 0.95\n",
    "\n",
    "#calculating the lower and upper bound values for the Confidence interval\n",
    "s_error = population_sd/(N**0.5)\n",
    "zscore = norm.ppf((1+confidence_level)/2)\n",
    "margin_of_error = s_error*zscore\n",
    "lower_bound_value = population_mean - margin_of_error\n",
    "upper_bound_value = population_mean + margin_of_error\n",
    "\n",
    "CI = np.array([lower_bound_value,upper_bound_value]).round(2)\n",
    "\n",
    "#displaying the Confidence interval of Value variable with 95% confidence level\n",
    "\n",
    "CI"
   ]
  },
  {
   "cell_type": "markdown",
   "id": "7be03402-079e-4ec3-af53-3004a0c1e53e",
   "metadata": {},
   "source": [
    "This narrow range of Confidence Interval suggests that transaction values are relatively stable, implying low variability in revenue per transaction. Management can rely on this stability for accurate financial planning and forecasting, with minimal risk of significant fluctuations in average transaction value."
   ]
  },
  {
   "cell_type": "markdown",
   "id": "e678953f-d4db-4afc-9dc1-6249ef06f78b",
   "metadata": {},
   "source": [
    "Asking relevant questions about the data set to get some basic insights:"
   ]
  },
  {
   "cell_type": "code",
   "execution_count": 36,
   "id": "223eed5a-8a5b-4b08-98e9-6eb0b3d02579",
   "metadata": {},
   "outputs": [
    {
     "name": "stdout",
     "output_type": "stream",
     "text": [
      "Highest number of transactions: Suriname\n",
      "Lowest number of transactions: Kiribati\n"
     ]
    }
   ],
   "source": [
    "# Q1. Which country has the highest and lowest number of transactions (both imports and exports)?\n",
    "# Count the number of transactions per country\n",
    "transaction_counts = sdset['Country'].value_counts()\n",
    "highest_country = transaction_counts.idxmax()\n",
    "lowest_country = transaction_counts.idxmin()\n",
    "\n",
    "print(f\"Highest number of transactions: {highest_country}\")\n",
    "print(f\"Lowest number of transactions: {lowest_country}\")\n",
    "\n"
   ]
  },
  {
   "cell_type": "markdown",
   "id": "96430d6d-361c-4767-a354-808dba189bd0",
   "metadata": {},
   "source": [
    "Q1 Analysis:\n",
    "Suriname has the highest number of transactions, both in terms of imports and exports.\n",
    "Kiribati has the lowest number of transactions in both imports and exports.\n",
    "Suriname's Active Trade: With Suriname showing the highest transaction volume, there might be an opportunity to study what specific products or categories are being traded. It could reflect a diverse range of exports or imports, or it might focus on a few high-demand commodities.\n",
    "Kiribati's Limited Trade: Kiribati’s low transaction volume could highlight a need for infrastructure improvements or economic diversification to increase trade. The country’s low trade volume might also point to its self-sufficiency or reliance on specific trade routes and partners."
   ]
  },
  {
   "cell_type": "code",
   "execution_count": 38,
   "id": "b3cae2ed-b21c-4e31-a5f7-5962d73f9cab",
   "metadata": {},
   "outputs": [
    {
     "name": "stdout",
     "output_type": "stream",
     "text": [
      "Product   Country                    \n",
      "American  Cape Verde                     2442.68\n",
      "          French Southern Territories    3744.54\n",
      "Congress  Equatorial Guinea              6631.68\n",
      "          Tunisia                        4513.46\n",
      "Democrat  Djibouti                       8783.15\n",
      "                                          ...   \n",
      "young     Spain                          1244.61\n",
      "your      Guernsey                       3760.42\n",
      "          Kazakhstan                     9401.38\n",
      "yourself  Czech Republic                 7870.86\n",
      "          Equatorial Guinea              2128.33\n",
      "Name: Value, Length: 1988, dtype: float64\n"
     ]
    }
   ],
   "source": [
    "#Q2. What is the average value of transactions by product and country?\n",
    "# Calculate the average value of transactions by product and country\n",
    "average_value = sdset.groupby(['Product', 'Country'])['Value'].mean()\n",
    "\n",
    "print(average_value)\n",
    "\n"
   ]
  },
  {
   "cell_type": "markdown",
   "id": "9baa983a-dc03-45ba-84bd-7d680c319f09",
   "metadata": {},
   "source": [
    "Q2 Analysis:\n",
    "This gives a clear insight into how different products perform in various countries. This data would give an idea about implications like figuring out country-specific product demand, understanding market behavior and potential opportunities for untapped market growth."
   ]
  },
  {
   "cell_type": "code",
   "execution_count": 40,
   "id": "fcc2809f-0ec1-4f6b-918e-0e3ef059f82d",
   "metadata": {},
   "outputs": [
    {
     "name": "stdout",
     "output_type": "stream",
     "text": [
      "Country contributing the most to total transaction value: Suriname\n"
     ]
    }
   ],
   "source": [
    "#Q3. #Which country contributes the most to total transaction value?\n",
    "# Calculate the total transaction value per country\n",
    "total_value_by_country = sdset.groupby('Country')['Value'].sum()\n",
    "highest_value_country = total_value_by_country.idxmax()\n",
    "\n",
    "print(f\"Country contributing the most to total transaction value: {highest_value_country}\")\n",
    "\n"
   ]
  },
  {
   "cell_type": "markdown",
   "id": "4bb4f5a4-98fe-44c3-89d7-d51c78d03469",
   "metadata": {},
   "source": [
    "Q3 Analysis:\n",
    "The analysis reveals that Suriname contributes the most to the total transaction value across all countries in the dataset. This suggests that Suriname is a significant player in terms of the overall monetary value of transactions, either through the volume of transactions, high-value transactions, or both."
   ]
  },
  {
   "cell_type": "code",
   "execution_count": 42,
   "id": "12a285c1-416a-46e5-9e4f-fb6b8f79d8bf",
   "metadata": {},
   "outputs": [
    {
     "name": "stdout",
     "output_type": "stream",
     "text": [
      "Country\n",
      "Afghanistan          2388.235000\n",
      "Albania              2808.017000\n",
      "Algeria              2741.365455\n",
      "American Samoa       2919.584545\n",
      "Andorra              2010.600000\n",
      "                        ...     \n",
      "Wallis and Futuna    2751.380000\n",
      "Western Sahara       2985.133750\n",
      "Yemen                4457.202000\n",
      "Zambia               2497.490833\n",
      "Zimbabwe             3072.767500\n",
      "Name: Weight, Length: 243, dtype: float64\n"
     ]
    }
   ],
   "source": [
    "#Q4.  What is the average weight of shipments per country?\n",
    "# Calculate the average weight of shipments per country\n",
    "average_weight_by_country = sdset.groupby('Country')['Weight'].mean()\n",
    "\n",
    "print(average_weight_by_country)"
   ]
  },
  {
   "cell_type": "markdown",
   "id": "6069fb0b-4b6d-46fe-8ed1-5b2e16200e66",
   "metadata": {},
   "source": [
    "Q4 Analysis:\n",
    "The average weight of shipments per country varies significantly, highlighting differences in the scale or type of goods traded across regions. For instance, Yemen has one of the highest average shipment weights at 4457.20, indicating its involvement in heavy or bulk goods trade. On the other hand, countries like Andorra have lower average shipment weights (2010.60), which could suggest smaller-scale or more specialized shipments."
   ]
  },
  {
   "cell_type": "code",
   "execution_count": 44,
   "id": "ab9beca2-d023-4314-aecc-45d0488e10eb",
   "metadata": {},
   "outputs": [
    {
     "name": "stdout",
     "output_type": "stream",
     "text": [
      "Product category contributing the most to total transaction value: Electronics\n"
     ]
    }
   ],
   "source": [
    "#Q5. Which product category contributes the most to total transaction value (both imports and exports)?\n",
    "# Calculate the total transaction value per product category\n",
    "total_value_by_category = sdset.groupby('Category')['Value'].sum()\n",
    "highest_value_category = total_value_by_category.idxmax()\n",
    "\n",
    "print(f\"Product category contributing the most to total transaction value: {highest_value_category}\")\n",
    "\n"
   ]
  },
  {
   "cell_type": "markdown",
   "id": "30f7dc4a-06a2-4e09-93b9-d078d6f7c4bd",
   "metadata": {},
   "source": [
    "Q5 Analysis:\n",
    "The product category contributing the most to total transaction value is Electronics. This indicates that electronics, encompassing a wide range of high-demand products suggests that electronics play a critical role in both import and export markets, driving substantial revenue across countries."
   ]
  },
  {
   "cell_type": "code",
   "execution_count": 46,
   "id": "fd617905-8848-46f8-8333-78f3ff736713",
   "metadata": {},
   "outputs": [
    {
     "name": "stdout",
     "output_type": "stream",
     "text": [
      "                        Quantity     Value\n",
      "Product  Import_Export                    \n",
      "American Import             5341   6187.22\n",
      "Congress Export            10673  11145.14\n",
      "Democrat Import            20330  15464.45\n",
      "Mr       Export            19497   8590.29\n",
      "         Import             6729   3249.37\n",
      "...                          ...       ...\n",
      "young    Export            12902  13574.02\n",
      "         Import            11792  14974.91\n",
      "your     Import             1935  13161.80\n",
      "yourself Export             1864   7870.86\n",
      "         Import             6842   2128.33\n",
      "\n",
      "[1239 rows x 2 columns]\n"
     ]
    }
   ],
   "source": [
    "#Q6. Which products are most frequently exported and imported by value and quantity?\n",
    "# Calculate the total quantity and value of exports and imports by product\n",
    "product_summary = sdset.groupby(['Product', 'Import_Export'])[['Quantity', 'Value']].sum()\n",
    "\n",
    "print(product_summary)\n"
   ]
  },
  {
   "cell_type": "markdown",
   "id": "be990694-2e2d-4deb-8b06-cfe7d7d43cba",
   "metadata": {},
   "source": [
    "Q6 Analysis:\n",
    "The product summary reveals which products dominate in exports and imports by both quantity and value. For instance, Congress is a leading export product with a total quantity of 10,673 and a value of 11,145.14, while Democrat is a significant import with a quantity of 20,330 and a value of 15,464.45. These trends provide insights into key product flows in international trade."
   ]
  },
  {
   "cell_type": "code",
   "execution_count": 48,
   "id": "33cc4403-d5fb-4a60-bde8-253aec25b30a",
   "metadata": {},
   "outputs": [
    {
     "name": "stdout",
     "output_type": "stream",
     "text": [
      "Country with highest number of import transactions: Suriname\n",
      "Country with highest number of export transactions: Bolivia\n"
     ]
    }
   ],
   "source": [
    "#Q7. Which country has the highest number of import transactions, and which has the highest number of export transactions?\n",
    "# Count the number of import and export transactions per country\n",
    "import_counts = sdset[sdset['Import_Export'] == 'Import']['Country'].value_counts()\n",
    "export_counts = sdset[sdset['Import_Export'] == 'Export']['Country'].value_counts()\n",
    "\n",
    "highest_import_country = import_counts.idxmax()\n",
    "highest_export_country = export_counts.idxmax()\n",
    "\n",
    "print(f\"Country with highest number of import transactions: {highest_import_country}\")\n",
    "print(f\"Country with highest number of export transactions: {highest_export_country}\")"
   ]
  },
  {
   "cell_type": "markdown",
   "id": "7e2202cf-decb-4909-a77f-f0cbf0390048",
   "metadata": {},
   "source": [
    "Q7 Analysis:\n",
    "The data indicates that Suriname has the highest number of import transactions, signifying its substantial role in receiving goods. On the other hand, Bolivia leads in export transactions, making it a key player in sending goods abroad. This contrast highlights the distinct roles these countries play in the global trade network, with Suriname focusing on imports and Bolivia on exports."
   ]
  },
  {
   "cell_type": "code",
   "execution_count": 50,
   "id": "e9538d53-670c-46fe-b579-d0bf3a837d3b",
   "metadata": {},
   "outputs": [
    {
     "name": "stdout",
     "output_type": "stream",
     "text": [
      "Total value of imports: 5273220.279999999\n",
      "Total value of exports: 4858140.510000001\n"
     ]
    }
   ],
   "source": [
    "#Q8. How does the total value of imports compare to the total value of exports globally?\n",
    "# Calculate the total value of imports and exports globally\n",
    "total_value_imports = sdset[sdset['Import_Export'] == 'Import']['Value'].sum()\n",
    "total_value_exports = sdset[sdset['Import_Export'] == 'Export']['Value'].sum()\n",
    "\n",
    "print(f\"Total value of imports: {total_value_imports}\")\n",
    "print(f\"Total value of exports: {total_value_exports}\")\n"
   ]
  },
  {
   "cell_type": "markdown",
   "id": "c69e06cc-d62e-4ea3-994e-c752ec217d19",
   "metadata": {},
   "source": [
    "Q8 Analysis:\n",
    "Globally, the total value of imports is approximately 5,273,220, while the total value of exports is slightly lower at 4,858,140. This indicates that the global trade balance leans towards imports, with countries collectively importing more in terms of monetary value than they are exporting. This could reflect increased demand for foreign goods or a reliance on external resources in various regions. The difference, while not drastically large, suggests a potential trade deficit on a global scale."
   ]
  },
  {
   "cell_type": "code",
   "execution_count": 52,
   "id": "89885299-5a41-4a56-8d87-764419356162",
   "metadata": {},
   "outputs": [
    {
     "name": "stdout",
     "output_type": "stream",
     "text": [
      "Largest port: South David\n",
      "Category\n",
      "Toys         2\n",
      "Clothing     1\n",
      "Furniture    1\n",
      "Name: count, dtype: int64\n"
     ]
    }
   ],
   "source": [
    "#Q9. Which port handles the largest number of transactions, and what types of products are typically processed there?\n",
    "# Count the number of transactions per port\n",
    "port_transaction_counts = sdset['Port'].value_counts()\n",
    "largest_port = port_transaction_counts.idxmax()\n",
    "\n",
    "# What types of products are typically processed at the largest port?\n",
    "products_at_largest_port = sdset[sdset['Port'] == largest_port]['Category'].value_counts()\n",
    "\n",
    "print(f\"Largest port: {largest_port}\")\n",
    "print(products_at_largest_port)\n"
   ]
  },
  {
   "cell_type": "markdown",
   "id": "1600e70e-042c-4811-9c21-9e1bd87737a2",
   "metadata": {},
   "source": [
    "Q9 Analysis:\n",
    "The South David port handles the largest number of transactions. The primary types of products processed at this port include Toys, Clothing, and Furniture, with Toys being the most frequently traded product. This suggests that South David is a key port for consumer goods, particularly those related to lifestyle and household products. The variety of products indicates that the port likely serves multiple industries, though it seems to specialize in products that are relatively light and require quick turnover.\n",
    "Understanding the product types processed at this port can help logistics planners and businesses optimize their supply chain strategies, especially if they are dealing with similar categories."
   ]
  },
  {
   "cell_type": "code",
   "execution_count": 54,
   "id": "4403439f-05fd-4477-b1c2-34dc64457125",
   "metadata": {},
   "outputs": [
    {
     "name": "stdout",
     "output_type": "stream",
     "text": [
      "Most common shipping method for high-value shipments: Air\n",
      "Most common shipping method for high-weight shipments: Air\n"
     ]
    }
   ],
   "source": [
    "#Q10. Which shipping method is most commonly used for high-value or high-weight shipments?\n",
    "# Define high value and high weight thresholds\n",
    "high_value_threshold = sdset['Value'].quantile(0.75)\n",
    "high_weight_threshold = sdset['Weight'].quantile(0.75)\n",
    "\n",
    "# Filter high-value and high-weight shipments\n",
    "high_value_shipments = sdset[sdset['Value'] >= high_value_threshold]\n",
    "high_weight_shipments = sdset[sdset['Weight'] >= high_weight_threshold]\n",
    "\n",
    "# Calculate the most common shipping method for high-value and high-weight shipments\n",
    "most_common_method_value = high_value_shipments['Shipping_Method'].value_counts().idxmax()\n",
    "most_common_method_weight = high_weight_shipments['Shipping_Method'].value_counts().idxmax()\n",
    "\n",
    "print(f\"Most common shipping method for high-value shipments: {most_common_method_value}\")\n",
    "print(f\"Most common shipping method for high-weight shipments: {most_common_method_weight}\")\n"
   ]
  },
  {
   "cell_type": "markdown",
   "id": "7d48a50d-4f6a-49d6-801c-3e626117ebc9",
   "metadata": {},
   "source": [
    "Q10 Analysis:\n",
    "For both high-value and high-weight shipments, Air is the most commonly used shipping method. This suggests that air transport is preferred for shipping goods that either have a high monetary value or are physically heavy. This highlights the strategic importance of air freight in handling premium and large-scale shipments."
   ]
  },
  {
   "cell_type": "code",
   "execution_count": 56,
   "id": "4228fa12-8c16-4b07-b793-907e6c686f1f",
   "metadata": {},
   "outputs": [
    {
     "name": "stdout",
     "output_type": "stream",
     "text": [
      "Country\n",
      "Congo                     61510\n",
      "Denmark                   54379\n",
      "Malaysia                  54308\n",
      "United Kingdom            52782\n",
      "British Virgin Islands    52360\n",
      "Name: Quantity, dtype: int64\n",
      "Category\n",
      "Clothing       11\n",
      "Furniture       9\n",
      "Electronics     8\n",
      "Machinery       8\n",
      "Toys            6\n",
      "Name: count, dtype: int64\n"
     ]
    }
   ],
   "source": [
    "#Q11. Which country imports the largest quantity of goods, and what are the most common product categories for those countries?\n",
    "# Filter import transactions\n",
    "import_transactions = sdset[sdset['Import_Export'] == 'Import']\n",
    "\n",
    "# Calculate total quantity of goods imported by country\n",
    "import_quantity_by_country = import_transactions.groupby('Country')['Quantity'].sum().nlargest(5)\n",
    "\n",
    "# Most common product categories for top importing countries\n",
    "common_categories = import_transactions[import_transactions['Country'].isin(import_quantity_by_country.index)]['Category'].value_counts()\n",
    "\n",
    "print(import_quantity_by_country)\n",
    "print(common_categories)\n"
   ]
  },
  {
   "cell_type": "markdown",
   "id": "0c650e49-9eb4-4ea1-b3f5-47c08642e8f8",
   "metadata": {},
   "source": [
    "Q11 Analysis:\n",
    "This data highlights the varied product demands where Congo leads as the top importer, followed closely by Denmark and Malaysia. These countries likely have high demand for certain products or strong trade relations that drive their import volumes. Clothing is the most frequently imported product, indicating high consumer demand or retail needs. Other significant imports like furniture, electronics, and machinery reflect both consumer and industrial needs across these top importing countries."
   ]
  },
  {
   "cell_type": "code",
   "execution_count": 58,
   "id": "782f9571-ea3e-474f-80c9-139ff4291290",
   "metadata": {},
   "outputs": [
    {
     "name": "stdout",
     "output_type": "stream",
     "text": [
      "Shipping_Method\n",
      "Air     5111.550778\n",
      "Land    4956.308402\n",
      "Sea     5125.693386\n",
      "Name: Value, dtype: float64\n"
     ]
    }
   ],
   "source": [
    "#Q12. What is the average shipment value by shipping method?\n",
    "# Calculate the average shipment value per shipping method\n",
    "average_value_by_method = sdset.groupby('Shipping_Method')['Value'].mean()\n",
    "\n",
    "print(average_value_by_method)\n"
   ]
  },
  {
   "cell_type": "markdown",
   "id": "9d53c158-5773-4c3f-b5e9-d74f15c7601c",
   "metadata": {},
   "source": [
    "Q12 Analysis:\n",
    "Sea shipments have the highest average value, slightly ahead of air shipments. This could be due to bulk or high-value goods typically transported via sea. Land shipments have the lowest average value, potentially reflecting smaller or regional shipments, which tend to be less costly compared to international sea or air freight."
   ]
  },
  {
   "cell_type": "code",
   "execution_count": 60,
   "id": "fd3d1e28-1daa-4780-896e-2e4c5e7d9b35",
   "metadata": {},
   "outputs": [
    {
     "name": "stdout",
     "output_type": "stream",
     "text": [
      "Category\n",
      "Clothing       1071860.04\n",
      "Electronics    1037731.84\n",
      "Furniture       987030.48\n",
      "Machinery       979246.29\n",
      "Toys            837175.58\n",
      "Name: Weight, dtype: float64\n"
     ]
    }
   ],
   "source": [
    "#Q13. How does the total shipment weight compare between different product categories?\n",
    "# Calculate the total weight of shipments per product category\n",
    "total_weight_by_category = sdset.groupby('Category')['Weight'].sum()\n",
    "\n",
    "print(total_weight_by_category)\n"
   ]
  },
  {
   "cell_type": "markdown",
   "id": "433f4a96-527a-47c9-ad84-dbf8021e14d8",
   "metadata": {},
   "source": [
    "Q13 Analysis:\n",
    "Clothing leads with the highest shipment weight, suggesting high-volume trade or bulk transportation in this category. Electronics and Furniture also have significant shipment weights, reflecting their high demand and possibly the bulkiness of furniture. Toys, though lighter by comparison, still show substantial shipping volume. This distribution highlights the diverse nature of product transportation across industries."
   ]
  },
  {
   "cell_type": "code",
   "execution_count": 62,
   "id": "e79b34dd-b3a1-498c-9c27-ea4ae4806efa",
   "metadata": {},
   "outputs": [
    {
     "name": "stdout",
     "output_type": "stream",
     "text": [
      "Product category experiencing the highest variation in shipment weight: Machinery\n"
     ]
    }
   ],
   "source": [
    "#Q14. Which product category experiences the highest variation in shipment weight?\n",
    "# Calculate the variation (standard deviation) in shipment weight per product category\n",
    "weight_variation_by_category = sdset.groupby('Category')['Weight'].std()\n",
    "highest_variation_category = weight_variation_by_category.idxmax()\n",
    "\n",
    "print(f\"Product category experiencing the highest variation in shipment weight: {highest_variation_category}\")\n"
   ]
  },
  {
   "cell_type": "markdown",
   "id": "8b50f267-1b49-4b07-9fe1-7159805fed7f",
   "metadata": {},
   "source": [
    "Q14 Analysis:\n",
    "The product category with the highest variation in shipment weight is Machinery. This indicates that machinery shipments vary significantly in size and weight, likely due to the diversity of machinery products. Some machinery might be lightweight components, while others could be heavy industrial equipment, leading to wide fluctuations in shipment weight. This further helps decide on the mode of supply and other logistics planning of the shipments."
   ]
  },
  {
   "cell_type": "code",
   "execution_count": 64,
   "id": "f1dce6c5-eb9f-44e4-beec-a426a9f4d984",
   "metadata": {},
   "outputs": [
    {
     "name": "stdout",
     "output_type": "stream",
     "text": [
      "Category  Country          \n",
      "Clothing  Afghanistan          7308.220000\n",
      "          Albania              3830.432500\n",
      "          Algeria              4295.490000\n",
      "          American Samoa       5809.046000\n",
      "          Andorra              6794.266667\n",
      "                                  ...     \n",
      "Toys      Vietnam              5439.343333\n",
      "          Wallis and Futuna    3415.125000\n",
      "          Western Sahara       5367.965000\n",
      "          Zambia               7572.340000\n",
      "          Zimbabwe             4861.410000\n",
      "Name: Value, Length: 967, dtype: float64\n"
     ]
    }
   ],
   "source": [
    "#Q15. What is the average transaction value by product category and country?\n",
    "# Calculate the average transaction value per product category and country\n",
    "average_value_by_category_country = sdset.groupby(['Category', 'Country'])['Value'].mean()\n",
    "\n",
    "print(average_value_by_category_country)"
   ]
  },
  {
   "cell_type": "markdown",
   "id": "e25704e2-22ad-4bbb-b24a-b584b6d33fdd",
   "metadata": {},
   "source": [
    "Q15 Analysis:\n",
    "The dataset shows the average transaction value for various product categories across different countries. For example:\n",
    "- Clothing transactions in Afghanistan average $7,308.22, while in Albania, they average $3,830.43.\n",
    "- Toys in Vietnam average $5,439.34, while in Zambia, the average is $7,572.34.\n",
    "This variation highlights how transaction values differ across countries, likely influenced by factors such as local demand, product pricing, and economic conditions. Higher average transaction values may indicate higher-value goods or larger shipments, while lower values may reflect smaller or less costly shipments."
   ]
  },
  {
   "cell_type": "code",
   "execution_count": 66,
   "id": "1af482fc-e821-4fbf-a5e5-8bf627f0f2b0",
   "metadata": {},
   "outputs": [
    {
     "name": "stdout",
     "output_type": "stream",
     "text": [
      "Category\n",
      "Clothing       2199656\n",
      "Electronics    2137838\n",
      "Furniture      2078260\n",
      "Machinery      2022252\n",
      "Toys           1766657\n",
      "Name: Quantity, dtype: int64\n"
     ]
    }
   ],
   "source": [
    "#Q16. Which product categories dominate the total quantity of goods shipped globally?\n",
    "# Calculate the total quantity of goods shipped per product category\n",
    "total_quantity_by_category = sdset.groupby('Category')['Quantity'].sum()\n",
    "dominant_categories = total_quantity_by_category.nlargest(5)\n",
    "\n",
    "print(dominant_categories)"
   ]
  },
  {
   "cell_type": "markdown",
   "id": "1bb84c9e-e33d-442d-96e4-5a91b16b7c1a",
   "metadata": {},
   "source": [
    "Q16 Analysis:\n",
    "Clothing leads as the most shipped product category, followed closely by electronics and furniture. These categories dominate global trade, likely due to their widespread consumer demand. Machinery and toys also see significant shipping volumes, reflecting both industrial needs and consumer markets. This data underscores the global demand for diverse consumer and industrial goods across these key sectors."
   ]
  },
  {
   "cell_type": "code",
   "execution_count": 68,
   "id": "1776dc9d-5b01-4fcd-a6d1-5c81951d3fc1",
   "metadata": {},
   "outputs": [
    {
     "name": "stdout",
     "output_type": "stream",
     "text": [
      "Top customers by number of transactions: Index(['Michael Brown', 'Jennifer Miller', 'Shannon Fox', 'Lisa Smith',\n",
      "       'Troy Williams'],\n",
      "      dtype='object', name='Customer')\n",
      "Most common product categories for these customers: Category\n",
      "Toys           5\n",
      "Clothing       2\n",
      "Electronics    1\n",
      "Machinery      1\n",
      "Furniture      1\n",
      "Name: count, dtype: int64\n"
     ]
    }
   ],
   "source": [
    "#Q17. Which customers handle the largest number of transactions, and what are the most common product categories for these customers?\n",
    "# Count the number of transactions per customer\n",
    "customer_transaction_counts = sdset['Customer'].value_counts()\n",
    "top_customers = customer_transaction_counts.nlargest(5).index\n",
    "\n",
    "# Most common product categories for top customers\n",
    "common_categories_top_customers = sdset[sdset['Customer'].isin(top_customers)]['Category'].value_counts()\n",
    "\n",
    "print(f\"Top customers by number of transactions: {top_customers}\")\n",
    "print(f\"Most common product categories for these customers: {common_categories_top_customers}\")\n"
   ]
  },
  {
   "cell_type": "markdown",
   "id": "4f3255bd-cf48-42b0-b4b4-4ce8fdc50127",
   "metadata": {},
   "source": [
    "Q17 Analysis:\n",
    "The top five customers by transaction volume are Michael Brown, Jennifer Miller, Shannon Fox, Lisa Smith, and Troy Williams. Among these customers, the most frequently purchased product category is Toys, indicating a strong preference or demand in this sector. Clothing, Electronics, Machinery, and Furniture also feature, but to a lesser extent. Given the diversity in product categories, ensuring an efficient and responsive supply chain is crucial. For toys, maintaining a steady supply and managing logistics to handle fluctuations in demand will be essential. "
   ]
  },
  {
   "cell_type": "code",
   "execution_count": 70,
   "id": "5c74c531-cdf7-4224-8562-f78d687fe2c4",
   "metadata": {},
   "outputs": [
    {
     "name": "stdout",
     "output_type": "stream",
     "text": [
      "Customer\n",
      "Aaron Banks        9927.69\n",
      "Aaron Barnes       3815.94\n",
      "Aaron Giles        8408.42\n",
      "Aaron Hall         2292.07\n",
      "Aaron Johnson      1753.44\n",
      "                    ...   \n",
      "Yvonne Newman      7171.51\n",
      "Zachary Clark      4973.92\n",
      "Zachary Mills      7192.50\n",
      "Zachary Simpson    6839.40\n",
      "Zachary Summers    3673.92\n",
      "Name: Value, Length: 1969, dtype: float64\n"
     ]
    }
   ],
   "source": [
    "#Q18. What is the total value of transactions by customer?\n",
    "# Calculate the total transaction value per customer\n",
    "total_value_by_customer = sdset.groupby('Customer')['Value'].sum()\n",
    "\n",
    "print(total_value_by_customer)\n"
   ]
  },
  {
   "cell_type": "markdown",
   "id": "732638b9-487f-473f-afe5-0049ed186a0d",
   "metadata": {},
   "source": [
    "Q19 Analysis:\n",
    "- High-Value Customers: For customers with high transaction values, there is likely a substantial import and export impact. There is a high need to ensure reliable and efficient supply chains to meet these high-value demands, focusing on timely deliveries and product availability.\n",
    "- Lower-Value Customers: For customers with lower transaction values, maintaining a balance in supply chain operations is crucial to avoid overstocking while still meeting their needs effectively.\n",
    "Overall, managing the import-export to cater to both high and low transaction value customers will help in optimizing resource allocation and improving service levels across different market segments & regions."
   ]
  },
  {
   "cell_type": "code",
   "execution_count": 72,
   "id": "eee365ab-49a1-4dd5-9244-0757bb4d4322",
   "metadata": {},
   "outputs": [
    {
     "name": "stdout",
     "output_type": "stream",
     "text": [
      "Payment_Terms     Country          \n",
      "Cash on Delivery  Afghanistan          7308.220000\n",
      "                  Albania              5489.280000\n",
      "                  Algeria              7062.222500\n",
      "                  American Samoa       8038.314000\n",
      "                  Andorra              2124.230000\n",
      "                                          ...     \n",
      "Prepaid           Wallis and Futuna    5980.075000\n",
      "                  Western Sahara       5803.870000\n",
      "                  Yemen                5213.735000\n",
      "                  Zambia               5083.040000\n",
      "                  Zimbabwe             4628.426667\n",
      "Name: Value, Length: 836, dtype: float64\n"
     ]
    }
   ],
   "source": [
    "#Q19. How do different payment terms impact the average transaction value for each country?\n",
    "# Calculate the average transaction value per payment term and country\n",
    "average_value_by_payment_terms = sdset.groupby(['Payment_Terms', 'Country'])['Value'].mean()\n",
    "\n",
    "print(average_value_by_payment_terms)\n"
   ]
  },
  {
   "cell_type": "markdown",
   "id": "9aea945d-38ef-47d1-8938-c94555139cb9",
   "metadata": {},
   "source": [
    "Q19 Analysis:\n",
    "This implies that payment terms influence average transaction values across countries. As COD transactions seems to be associated with higher values. This insight can guide supply chain strategies, including inventory management and logistics planning, to align with customer payment preferences and transaction sizes."
   ]
  },
  {
   "cell_type": "code",
   "execution_count": 74,
   "id": "91f62472-633c-44ab-9133-4e1a83521798",
   "metadata": {},
   "outputs": [
    {
     "name": "stdout",
     "output_type": "stream",
     "text": [
      "Port associated with the highest-value shipments: New Christopher\n",
      "Supplier associated with the highest-value shipments: Martinez and Sons\n"
     ]
    }
   ],
   "source": [
    "#Q20. Which ports and suppliers are associated with the highest-value shipments?\n",
    "# Calculate the total value of shipments per port and supplier\n",
    "total_value_by_port = sdset.groupby('Port')['Value'].sum()\n",
    "total_value_by_supplier = sdset.groupby('Supplier')['Value'].sum()\n",
    "\n",
    "highest_value_port = total_value_by_port.idxmax()\n",
    "highest_value_supplier = total_value_by_supplier.idxmax()\n",
    "\n",
    "print(f\"Port associated with the highest-value shipments: {highest_value_port}\")\n",
    "print(f\"Supplier associated with the highest-value shipments: {highest_value_supplier}\")"
   ]
  },
  {
   "cell_type": "markdown",
   "id": "0666b5af-93b0-4bfa-92ae-57703ddd7dfb",
   "metadata": {},
   "source": [
    "Q20 Analysis:\n",
    "The output tells us about 2 factors-\n",
    "- Port Management: Given that New Christopher handles the highest-value shipments, optimizing its operations, including customs processes and logistical support, is crucial to maintain efficiency and manage high-value goods effectively.\n",
    "- Supplier Relations: With Martinez and Sons being the top supplier for high-value shipments, maintaining strong and reliable relationships with them is essential. Ensuring timely delivery and quality of goods from this supplier will be vital to sustaining the supply chain's effectiveness."
   ]
  },
  {
   "cell_type": "code",
   "execution_count": 76,
   "id": "fd6136ad-333a-492e-a91e-8af31563adc4",
   "metadata": {},
   "outputs": [
    {
     "name": "stderr",
     "output_type": "stream",
     "text": [
      "C:\\Users\\Sweta Behera\\AppData\\Local\\Temp\\ipykernel_19460\\1775764157.py:2: UserWarning: Parsing dates in %d-%m-%Y format when dayfirst=False (the default) was specified. Pass `dayfirst=True` or specify a format to silence this warning.\n",
      "  sdset['Date'] = pd.to_datetime(sdset['Date'])\n"
     ]
    },
    {
     "data": {
      "image/png": "[encoded data removed]",
      "text/plain": [
       "<Figure size 1000x600 with 1 Axes>"
      ]
     },
     "metadata": {},
     "output_type": "display_data"
    }
   ],
   "source": [
    "#Q21. What is the trend of total Value of transactions over time?\n",
    "sdset['Date'] = pd.to_datetime(sdset['Date'])\n",
    "\n",
    "# Group by month or year and sum up the Value\n",
    "total_value_over_time = sdset.groupby(sdset['Date'].dt.to_period('M'))['Value'].sum()\n",
    "\n",
    "# Plot the line graph\n",
    "total_value_over_time.plot(kind='line', figsize=(10, 6), title='Total Value of Transactions Over Time')\n",
    "plt.xlabel('Time (Monthly)')\n",
    "plt.ylabel('Total Value')\n",
    "plt.show()\n"
   ]
  },
  {
   "cell_type": "code",
   "execution_count": 77,
   "id": "d0ba958c-22f7-4c18-8a6b-3dae99da18ff",
   "metadata": {},
   "outputs": [
    {
     "data": {
      "image/png": "[encoded data removed]",
      "text/plain": [
       "<Figure size 1000x700 with 1 Axes>"
      ]
     },
     "metadata": {},
     "output_type": "display_data"
    }
   ],
   "source": [
    "#Q22. Is there a relationship between the average transaction value and the average shipment weight by product category? Do heavier shipments tend to have higher values across different categories?\"\n",
    "\n",
    "# Step 1: Group by 'Category' to calculate average transaction value and average weight\n",
    "category_data = sdset.groupby('Category').agg({'Value': 'mean', 'Weight': 'mean'}).reset_index()\n",
    "\n",
    "# Step 2: Extract average shipment weight and average transaction value for each category\n",
    "avg_weight = category_data['Weight']\n",
    "avg_value = category_data['Value']\n",
    "\n",
    "# Step 3: Plot the scatter plot\n",
    "plt.figure(figsize=(10, 7))\n",
    "plt.scatter(avg_weight, avg_value, color='purple', alpha=0.6)\n",
    "\n",
    "# Step 4: Add labels, title, and grid\n",
    "plt.title('Relationship Between Average Transaction Value and Average Shipment Weight by Product Category')\n",
    "plt.xlabel('Average Shipment Weight')\n",
    "plt.ylabel('Average Transaction Value')\n",
    "plt.grid(True)\n",
    "\n",
    "# Step 5: Show the plot\n",
    "plt.show()"
   ]
  },
  {
   "cell_type": "markdown",
   "id": "02abdec9-53d9-42fd-b30b-0e562f7597fe",
   "metadata": {},
   "source": [
    "Plot Analysis: \n",
    "The scatter plot does not show a strong linear relationship between the average shipment weight and the average transaction value by product category.\n",
    "The points are fairly scattered, indicating that heavier shipments do not necessarily correspond to higher transaction values or vice versa. This suggests that the value of transactions might be more influenced by other factors such as the type of product or market demand, rather than the weight alone."
   ]
  },
  {
   "cell_type": "code",
   "execution_count": 79,
   "id": "31fa334e-7799-4bb2-b8c8-6bf21327158c",
   "metadata": {},
   "outputs": [
    {
     "data": {
      "image/png": "[encoded data removed]",
      "text/plain": [
       "<Figure size 800x600 with 1 Axes>"
      ]
     },
     "metadata": {},
     "output_type": "display_data"
    }
   ],
   "source": [
    "#Q23. What is the total shipment weight by shipping method?\n",
    "\n",
    "shipping_method_weight = sdset.groupby('Shipping_Method')['Weight'].sum()\n",
    "\n",
    "# Plotting a bar chart for total shipment weight by shipping method\n",
    "shipping_method_weight.plot(kind='bar', figsize=(8,6), color=['blue', 'orange', 'green'])\n",
    "\n",
    "# Adding labels and title\n",
    "plt.title('Total Shipment Weight by Shipping Method')\n",
    "plt.xlabel('Shipping Method')\n",
    "plt.ylabel('Total Shipment Weight')\n",
    "\n",
    "# Display the plot\n",
    "plt.tight_layout()\n",
    "plt.show()"
   ]
  },
  {
   "cell_type": "markdown",
   "id": "e9989f6d-6285-4ec5-af99-4d2eb4631dcf",
   "metadata": {},
   "source": [
    "Plot Analysis: \n",
    "Air has the highest total shipment weight (1.75).\n",
    "Land follows with a total shipment weight of approximately 1.60.\n",
    "Sea has the lowest total shipment weight at approximately 1.54.\n",
    "From this, it appears that air transport is used for heavier shipments compared to land and sea, while sea transport is associated with lighter shipments on average."
   ]
  },
  {
   "cell_type": "code",
   "execution_count": 81,
   "id": "c27cfe66-f811-4531-ab0c-9b7d3b245cc1",
   "metadata": {},
   "outputs": [
    {
     "data": {
      "image/png": "[encoded data removed]",
      "text/plain": [
       "<Figure size 1000x600 with 1 Axes>"
      ]
     },
     "metadata": {},
     "output_type": "display_data"
    }
   ],
   "source": [
    "#Q24. What is the distribution of shipment frequency by product type (Category)?\n",
    "# Step 1: Count the number of shipments for each product type\n",
    "product_type_counts = sdset['Category'].value_counts()\n",
    "\n",
    "# Step 2: Plot the bar chart\n",
    "plt.figure(figsize=(10,6))\n",
    "product_type_counts.plot(kind='bar', color='skyblue')\n",
    "\n",
    "# Step 3: Add title and labels\n",
    "plt.title('Shipment Frequency by Product Type')\n",
    "plt.xlabel('Category')\n",
    "plt.ylabel('Number of Shipments')\n",
    "\n",
    "# Step 4: Show the plot\n",
    "plt.tight_layout()\n",
    "plt.show()"
   ]
  },
  {
   "cell_type": "markdown",
   "id": "06ebb21c-9b26-414a-b1c6-8d2e851ca379",
   "metadata": {},
   "source": [
    "Plot Analysis:\n",
    "Overall this helps get insights into the demand and volume of each product, where, the product category: Electronics, Furniture and Clothing dominates the shipping frequency with above 400 shipments, which indicates higher demand or production level of these products. This could also be used to assess inventory needs or supplier capacity."
   ]
  },
  {
   "cell_type": "markdown",
   "id": "a80f29fe-fb70-48f6-8e86-629d1b690f17",
   "metadata": {},
   "source": [
    "INFERENTIAL ANALYSIS"
   ]
  },
  {
   "cell_type": "code",
   "execution_count": 84,
   "id": "91e7971c-2c8f-4aca-9692-58381fd89a6f",
   "metadata": {},
   "outputs": [
    {
     "name": "stdout",
     "output_type": "stream",
     "text": [
      "Hypothesis:\n",
      "H₀ (Null Hypothesis): The average shipment value for exports is equal to the average shipment value for imports.\n",
      "H₁ (Alternative Hypothesis): The average shipment value for exports is different from the average shipment value for imports.\n",
      "T-statistic: -1.3729830671024277\n",
      "P-value: 0.16991160213916723\n",
      "Fail to reject the null hypothesis. There is no significant difference in the average shipment value for exports and imports.\n"
     ]
    }
   ],
   "source": [
    "print(\"Hypothesis:\")\n",
    "print(\"H₀ (Null Hypothesis): The average shipment value for exports is equal to the average shipment value for imports.\")\n",
    "print(\"H₁ (Alternative Hypothesis): The average shipment value for exports is different from the average shipment value for imports.\")\n",
    "\n",
    "# Step 1: Separate data into exports and imports\n",
    "export_values = sdset[sdset['Import_Export'] == 'Export']['Value']\n",
    "import_values = sdset[sdset['Import_Export'] == 'Import']['Value']\n",
    "\n",
    "# Step 2: Perform the two-sample t-test\n",
    "t_statistic, p_value = stats.ttest_ind(export_values, import_values)\n",
    "\n",
    "# Step 3: Output the results\n",
    "print(f\"T-statistic: {t_statistic}\")\n",
    "print(f\"P-value: {p_value}\")\n",
    "\n",
    "# Step 4: Hypothesis Testing Decision\n",
    "alpha = 0.05  # Significance level of 5%\n",
    "if p_value < alpha:\n",
    "    print(\"Reject the null hypothesis. The average shipment value for exports is significantly different from imports.\")\n",
    "else:\n",
    "    print(\"Fail to reject the null hypothesis. There is no significant difference in the average shipment value for exports and imports.\")"
   ]
  },
  {
   "cell_type": "markdown",
   "id": "8f0dad2f-7696-442b-8fc7-74afd71a3c1f",
   "metadata": {},
   "source": [
    "Analysis:\n",
    "The p-value (0.802) is much higher than the chosen significance level (0.05), which indicates that the observed difference in shipment values between exports and imports is not statistically significant. We fail to reject the null hypothesis, meaning that the data does not provide sufficient evidence to conclude that the average shipment value for exports differs from that of imports. \n",
    "This hypothesis testing shows that there is no significant difference in the monetary values of exports and imports. This insight might lead to a deeper analysis of other trade factors, such as volume, frequency, or specific product categories, to fully understand any of the country's trade dynamics."
   ]
  },
  {
   "cell_type": "markdown",
   "id": "9e5eddf0-5b2e-462e-9988-46f981c2eb9e",
   "metadata": {},
   "source": [
    "Q.  Are there significant differences in the value of exports between two specific countries?\n",
    " - Null Hypothesis (H₀): The mean export value of Country A is equal to that of Country B.\n",
    " - Alternative Hypothesis (H₁): The mean export value of Country A is not equal to that of Country B"
   ]
  },
  {
   "cell_type": "code",
   "execution_count": 87,
   "id": "1ac22e50-914b-45cf-b35f-0bc99128fb64",
   "metadata": {},
   "outputs": [
    {
     "name": "stdout",
     "output_type": "stream",
     "text": [
      "T-statistic: 0.13946577115719\n",
      "P-value: 0.8905498379135777\n",
      "Fail to reject the null hypothesis: There is no significant difference in export values between the two countries.\n"
     ]
    }
   ],
   "source": [
    "country_a = sdset[sdset['Country'] == 'Colombia']['Value']\n",
    "country_b = sdset[sdset['Country'] == 'Chile']['Value']\n",
    "\n",
    "# Perform independent two-sample t-test\n",
    "t_stat, p_value = stats.ttest_ind(country_a, country_b, nan_policy='omit')  # nan_policy='omit' to ignore missing values if any\n",
    "\n",
    "# Print the results\n",
    "print(f\"T-statistic: {t_stat}\")\n",
    "print(f\"P-value: {p_value}\")\n",
    "\n",
    "# Determine significance\n",
    "alpha = 0.05  # 5% significance level\n",
    "if p_value < alpha:\n",
    "    print(\"Reject the null hypothesis: There is a significant difference in export values between the two countries.\")\n",
    "else:\n",
    "    print(\"Fail to reject the null hypothesis: There is no significant difference in export values between the two countries.\")"
   ]
  },
  {
   "cell_type": "markdown",
   "id": "f4672738-474b-42fa-82a0-26f823544f7a",
   "metadata": {},
   "source": [
    "Analysis:\n",
    "With a p-value of 0.891 (well above the 0.05 significance level), we fail to reject the null hypothesis. This indicates there is no statistically significant difference in the mean export values between Colombia and Chile in this dataset. The export values between the two countries appear to be very similar, suggesting that both countries trade goods with comparable monetary value. This could imply balanced trade relationships or similar market demands. "
   ]
  },
  {
   "cell_type": "markdown",
   "id": "6288d240-3553-4f0a-b9d8-00d266155b4e",
   "metadata": {},
   "source": [
    "Q. Is there a significant difference in the variance of export values between two countries (e.g., Colombia vs. Chile)?\n",
    "\n",
    "- Null Hypothesis (H₀): The variance of export values in Country A is equal to that in Country B.\n",
    "- Alternative Hypothesis (H₁): The variance of export values in Country A is not equal to that in Country B."
   ]
  },
  {
   "cell_type": "code",
   "execution_count": 90,
   "id": "a1e2975c-4523-4d73-a96b-06461a3e3609",
   "metadata": {},
   "outputs": [
    {
     "name": "stdout",
     "output_type": "stream",
     "text": [
      "F-statistic: 1.7177140840535148\n",
      "P-value: 0.3915435494555457\n",
      "Fail to reject the null hypothesis: There is no significant difference in the variances of export values between Colombia and Chile.\n"
     ]
    }
   ],
   "source": [
    "# Filter data for the specific countries (replace 'Colombia' and 'Chile' with desired countries)\n",
    "colombia_data = sdset[sdset['Country'] == 'Colombia']['Value']\n",
    "chile_data = sdset[sdset['Country'] == 'Chile']['Value']\n",
    "\n",
    "# Remove any missing or NaN values\n",
    "colombia_data = colombia_data.dropna()\n",
    "chile_data = chile_data.dropna()\n",
    "\n",
    "# Perform F-test to compare variances\n",
    "f_stat = np.var(colombia_data, ddof=1) / np.var(chile_data, ddof=1)  # Calculate F-statistic\n",
    "df1 = len(colombia_data) - 1  # Degrees of freedom for Country A (Colombia)\n",
    "df2 = len(chile_data) - 1  # Degrees of freedom for Country B (Chile)\n",
    "\n",
    "# Calculate the p-value\n",
    "p_value = stats.f.cdf(f_stat, df1, df2) if f_stat < 1 else 1 - stats.f.cdf(f_stat, df1, df2)\n",
    "\n",
    "# Multiply p-value by 2 because it's a two-tailed test\n",
    "p_value = 2 * p_value\n",
    "\n",
    "# Print results\n",
    "print(f\"F-statistic: {f_stat}\")\n",
    "print(f\"P-value: {p_value}\")\n",
    "\n",
    "# Determine significance\n",
    "alpha = 0.05  # 5% significance level\n",
    "if p_value < alpha:\n",
    "    print(\"Reject the null hypothesis: The variances of export values between Colombia and Chile are significantly different.\")\n",
    "else:\n",
    "    print(\"Fail to reject the null hypothesis: There is no significant difference in the variances of export values between Colombia and Chile.\")"
   ]
  },
  {
   "cell_type": "markdown",
   "id": "cfd1de85-1736-4384-b285-9d2ea51157f7",
   "metadata": {},
   "source": [
    "Analysis: Since the p-value is less than 0.05, we conclude that there is a significant difference in the variances of export values between Colombia and Chile. This means there is no significant difference in the variances of export values between Colombia and Chile. The variance in export values between Colombia and Chile is similar, indicating that the spread or dispersion of export values is consistent across both countries. This suggests stability in the range of values for exports from both nations, pointing to potentially similar market conditions or trade policies."
   ]
  },
  {
   "cell_type": "markdown",
   "id": "c028ab9a-42b7-41cb-b98b-bc2bfc2b773b",
   "metadata": {},
   "source": [
    "Q. Is there a significant difference in the proportion of high-value exports between two countries (e.g., Colombia vs. Chile)?\n",
    "\n",
    "- Null Hypothesis (H₀): The proportion of high-value exports is equal in Country A and Country B.\n",
    "- Alternative Hypothesis (H₁): The proportion of high-value exports is different in Country A and Country B."
   ]
  },
  {
   "cell_type": "code",
   "execution_count": 93,
   "id": "09c19dd7-3de3-41eb-99d5-dd424348ea9b",
   "metadata": {},
   "outputs": [
    {
     "name": "stdout",
     "output_type": "stream",
     "text": [
      "Z-statistic: -0.7283591099224289\n",
      "P-value: 0.4663937870831574\n",
      "Fail to reject the null hypothesis: There is no significant difference in the proportions of high-value exports.\n"
     ]
    }
   ],
   "source": [
    "# Replace 'high_value_threshold' with the actual value that defines \"high-value\"\n",
    "high_value_threshold = sdset['Value'].mean()  # Example threshold for high-value export\n",
    "\n",
    "# Filter data for the specific countries\n",
    "colombia_data = sdset[sdset['Country'] == 'Colombia']\n",
    "chile_data = sdset[sdset['Country'] == 'Chile']\n",
    "\n",
    "# Calculate the total number of exports and high-value exports for each country\n",
    "total_exports_country_a = len(colombia_data)\n",
    "total_exports_country_b = len(chile_data)\n",
    "\n",
    "high_value_exports_country_a = (colombia_data['Value'] > high_value_threshold).sum()\n",
    "high_value_exports_country_b = (chile_data['Value'] > high_value_threshold).sum()\n",
    "\n",
    "# Proportions of high-value exports\n",
    "p1 = high_value_exports_country_a / total_exports_country_a\n",
    "p2 = high_value_exports_country_b / total_exports_country_b\n",
    "\n",
    "# Combined proportion\n",
    "p = (high_value_exports_country_a + high_value_exports_country_b) / (total_exports_country_a + total_exports_country_b)\n",
    "\n",
    "# Z-test calculation\n",
    "z_stat = (p1 - p2) / ((p * (1 - p) * (1 / total_exports_country_a + 1 / total_exports_country_b)) ** 0.5)\n",
    "p_value = 2 * (1 - stats.norm.cdf(abs(z_stat)))  # Two-tailed test\n",
    "\n",
    "# Print results\n",
    "print(f\"Z-statistic: {z_stat}\")\n",
    "print(f\"P-value: {p_value}\")\n",
    "\n",
    "# Determine significance\n",
    "alpha = 0.05\n",
    "if p_value < alpha:\n",
    "    print(\"Reject the null hypothesis: The proportion of high-value exports differs significantly between Colombia and Chile.\")\n",
    "else:\n",
    "    print(\"Fail to reject the null hypothesis: There is no significant difference in the proportions of high-value exports.\")"
   ]
  },
  {
   "cell_type": "markdown",
   "id": "a62f1f85-9c77-4567-9bf8-f1252d9b5615",
   "metadata": {},
   "source": [
    "Analysis:\n",
    "With a p-value of 0.466, which is higher than the significance level of 0.05, we fail to reject the null hypothesis. This means that there is no statistically significant difference in the proportion of high-value exports between Colombia and Chile. The similar proportion of high-value exports suggests that both Colombia and Chile engage in exporting goods of comparable value. This indicates that neither country dominates in exporting more high-value goods compared to the other."
   ]
  },
  {
   "cell_type": "markdown",
   "id": "efcc0432-c3dc-433c-a505-1c5d02314f92",
   "metadata": {},
   "source": [
    "Q. Is there a significant correlation between export value and shipment weight across all records?\n",
    "\n",
    "- Null Hypothesis (H₀): There is no significant correlation between export value and shipment weight.\n",
    "- Alternative Hypothesis (H₁): There is a significant correlation between export value and shipment weight."
   ]
  },
  {
   "cell_type": "code",
   "execution_count": 96,
   "id": "94ad07c8-6224-4cfc-a2f8-ebc3a3d06718",
   "metadata": {},
   "outputs": [
    {
     "name": "stdout",
     "output_type": "stream",
     "text": [
      "Correlation Coefficient: 0.03688801649920315\n",
      "P-value: 0.09901966955427066\n",
      "Fail to reject the null hypothesis: There is no significant correlation between export value and shipment weight.\n"
     ]
    }
   ],
   "source": [
    "# Drop rows with missing values in the columns of interest\n",
    "data = sdset[['Value', 'Weight']].dropna()\n",
    "\n",
    "# Compute Pearson correlation coefficient and p-value\n",
    "correlation_coefficient, p_value = stats.pearsonr(data['Value'], data['Weight'])\n",
    "\n",
    "# Print results\n",
    "print(f\"Correlation Coefficient: {correlation_coefficient}\")\n",
    "print(f\"P-value: {p_value}\")\n",
    "\n",
    "# Determine significance\n",
    "alpha = 0.05\n",
    "if p_value < alpha:\n",
    "    print(\"Reject the null hypothesis: There is a significant correlation between export value and shipment weight.\")\n",
    "else:\n",
    "    print(\"Fail to reject the null hypothesis: There is no significant correlation between export value and shipment weight.\")\n"
   ]
  },
  {
   "cell_type": "markdown",
   "id": "9b3994b4-a1f5-4abd-bce7-5e1092fcd9ef",
   "metadata": {},
   "source": [
    "Analysis:\n",
    "With a p-value of 0.099, which is greater than the significance level of 0.05, we fail to reject the null hypothesis. The correlation coefficient of 0.037 indicates a very weak positive correlation between export value and shipment weight, but this relationship is not statistically significant.\n",
    "The result suggests that there is no significant relationship between the export value and shipment weight in this dataset. This indicates that higher shipment weights do not necessarily correspond to higher export values, implying that the value of exports is likely driven by factors other than weight (such as product type or market demand)."
   ]
  },
  {
   "cell_type": "markdown",
   "id": "25648e93-5b1b-4856-a25f-49d448526df2",
   "metadata": {},
   "source": [
    "Q. Is the distribution of export values normally distributed?\n",
    "\n",
    "- Null Hypothesis (H₀): The export values are normally distributed.\n",
    "- Alternative Hypothesis (H₁): The export values are not normally distributed."
   ]
  },
  {
   "cell_type": "code",
   "execution_count": 99,
   "id": "64fb9bae-2f23-40c9-b9a8-f242013f80e9",
   "metadata": {},
   "outputs": [
    {
     "name": "stdout",
     "output_type": "stream",
     "text": [
      "Shapiro-Wilk Statistic: 0.9527849989338868\n",
      "P-value: 6.511087944398688e-25\n",
      "Reject the null hypothesis: The data is not normally distributed.\n"
     ]
    }
   ],
   "source": [
    "# Drop rows with missing values in the column of interest\n",
    "data = sdset['Value'].dropna()\n",
    "\n",
    "# Perform Shapiro-Wilk test\n",
    "statistic, p_value = stats.shapiro(data)\n",
    "\n",
    "# Print results\n",
    "print(f\"Shapiro-Wilk Statistic: {statistic}\")\n",
    "print(f\"P-value: {p_value}\")\n",
    "\n",
    "# Determine significance\n",
    "alpha = 0.05\n",
    "if p_value < alpha:\n",
    "    print(\"Reject the null hypothesis: The data is not normally distributed.\")\n",
    "else:\n",
    "    print(\"Fail to reject the null hypothesis: The data is normally distributed.\")\n"
   ]
  },
  {
   "cell_type": "markdown",
   "id": "b1c7e10d-d9aa-4362-b570-d56601e07f08",
   "metadata": {},
   "source": [
    "Analysis:\n",
    "With an extremely low p-value, far below the significance level of 0.05, we reject the null hypothesis. This means that the export values in the dataset are not normally distributed. The non-normal distribution of export values suggests that the data may be skewed or have outliers, potentially indicating large variations in the value of exports. This could imply that there are a few high-value exports significantly distorting the distribution, or the export market may be composed of a mix of low and high-value goods. "
   ]
  },
  {
   "cell_type": "markdown",
   "id": "04514c87-16da-4890-935e-b99fc2ab75b2",
   "metadata": {},
   "source": [
    "Q.  Is there a significant difference in the distribution of export values between two different shipping methods (e.g., Air vs. Sea)?\n",
    "\n",
    "Null Hypothesis (H₀): The distribution of export values is the same for both shipping methods (Air and Sea).\n",
    "Alternative Hypothesis (H₁): The distribution of export values differs between the two shipping methods."
   ]
  },
  {
   "cell_type": "code",
   "execution_count": 102,
   "id": "9f052f4b-7e39-4b7f-bee2-e9904d985bd2",
   "metadata": {},
   "outputs": [
    {
     "name": "stdout",
     "output_type": "stream",
     "text": [
      "Mann-Whitney U Statistic: 216551.5\n",
      "P-value: 0.9208406478130232\n",
      "Fail to reject the null hypothesis: There is no significant difference in the distribution of export values between Air and Sea shipping methods.\n"
     ]
    }
   ],
   "source": [
    "# Filter data for the two shipping methods\n",
    "air_data = sdset[sdset['Shipping_Method'] == 'Air']['Value']\n",
    "sea_data = sdset[sdset['Shipping_Method'] == 'Sea']['Value']\n",
    "\n",
    "# Drop rows with missing values in the columns of interest\n",
    "air_data = air_data.dropna()\n",
    "sea_data = sea_data.dropna()\n",
    "\n",
    "# Perform Mann-Whitney U test\n",
    "u_statistic, p_value = stats.mannwhitneyu(air_data, sea_data, alternative='two-sided')\n",
    "\n",
    "# Print results\n",
    "print(f\"Mann-Whitney U Statistic: {u_statistic}\")\n",
    "print(f\"P-value: {p_value}\")\n",
    "\n",
    "# Determine significance\n",
    "alpha = 0.05\n",
    "if p_value < alpha:\n",
    "    print(\"Reject the null hypothesis: The distribution of export values differs between Air and Sea shipping methods.\")\n",
    "else:\n",
    "    print(\"Fail to reject the null hypothesis: There is no significant difference in the distribution of export values between Air and Sea shipping methods.\")\n"
   ]
  },
  {
   "cell_type": "markdown",
   "id": "d38f63ba-5d9e-471e-9f1c-af34052cec41",
   "metadata": {},
   "source": [
    "Analysis:\n",
    "The Mann-Whitney U statistic of 216,551.5 indicates that the ranks of export values for Air and Sea shipping methods are quite similar.The high p-value (0.921) confirms that there is no significant difference between the distributions of export values for the two shipping methods, suggesting that the method of shipment does not affect the value distribution of exports in a notable way."
   ]
  },
  {
   "cell_type": "code",
   "execution_count": null,
   "id": "7a5859c3-f374-4569-bc75-316a5b6bd7e8",
   "metadata": {},
   "outputs": [],
   "source": []
  },
  {
   "cell_type": "markdown",
   "id": "f7742f4a-581b-467c-b3ce-cb41b7850461",
   "metadata": {},
   "source": [
    "Team Members Name\n",
    "1. Amrit Agarwal\n",
    "\n",
    "    Rollno. - 055004\n",
    "3. Sweta Behera\n",
    "    \n",
    "    Rollno. - 055051\n",
    "   "
   ]
  },
  {
   "cell_type": "code",
   "execution_count": null,
   "id": "993c2c4e-1a12-4346-b05e-f2814e070912",
   "metadata": {},
   "outputs": [],
   "source": []
  },
  {
   "cell_type": "code",
   "execution_count": null,
   "id": "f6290774-bc60-40e1-97e2-e76c97d30188",
   "metadata": {},
   "outputs": [],
   "source": []
  },
  {
   "cell_type": "code",
   "execution_count": null,
   "id": "e4ca56d2-7d1e-444a-88f7-5644a97b2901",
   "metadata": {},
   "outputs": [],
   "source": []
  },
  {
   "cell_type": "code",
   "execution_count": null,
   "id": "2829fdac-eee5-4405-8684-a19c17dd5856",
   "metadata": {},
   "outputs": [],
   "source": []
  },
  {
   "cell_type": "code",
   "execution_count": null,
   "id": "90119590-2ec6-48cb-8d59-08cb997c7a9d",
   "metadata": {},
   "outputs": [],
   "source": []
  },
  {
   "cell_type": "code",
   "execution_count": null,
   "id": "23b77eba-c2f4-4427-9d11-33e686e9e637",
   "metadata": {},
   "outputs": [],
   "source": []
  },
  {
   "cell_type": "code",
   "execution_count": null,
   "id": "b55d4728-e4a5-4942-8d9a-94c743a13215",
   "metadata": {},
   "outputs": [],
   "source": []
  },
  {
   "cell_type": "code",
   "execution_count": null,
   "id": "567924b9-a7b0-48c3-b50c-87fc239854e7",
   "metadata": {},
   "outputs": [],
   "source": []
  },
  {
   "cell_type": "code",
   "execution_count": null,
   "id": "db18248e-9f94-4120-9ebe-8c4cd9061ee4",
   "metadata": {},
   "outputs": [],
   "source": []
  },
  {
   "cell_type": "code",
   "execution_count": null,
   "id": "ad78d566-5d38-4a9a-aa89-e537e04d5d22",
   "metadata": {},
   "outputs": [],
   "source": []
  },
  {
   "cell_type": "code",
   "execution_count": null,
   "id": "1ad63849-f378-4994-b790-73e6dc24fe01",
   "metadata": {},
   "outputs": [],
   "source": []
  },
  {
   "cell_type": "code",
   "execution_count": null,
   "id": "68128f58-81a7-4790-9f69-c5f1c8b633b1",
   "metadata": {},
   "outputs": [],
   "source": []
  },
  {
   "cell_type": "code",
   "execution_count": null,
   "id": "864090b4-26d4-482c-a1a1-e24f5bcd98f0",
   "metadata": {},
   "outputs": [],
   "source": []
  },
  {
   "cell_type": "code",
   "execution_count": null,
   "id": "3ee3fd2f-0bfb-4dd9-babf-36855f582537",
   "metadata": {},
   "outputs": [],
   "source": []
  },
  {
   "cell_type": "code",
   "execution_count": null,
   "id": "c54c29cb-508e-4ec8-bb5b-ac40b5b93f8e",
   "metadata": {},
   "outputs": [],
   "source": []
  },
  {
   "cell_type": "code",
   "execution_count": null,
   "id": "0a69a1ea-f76f-4a71-9d4b-5e9388340ea6",
   "metadata": {},
   "outputs": [],
   "source": []
  },
  {
   "cell_type": "code",
   "execution_count": null,
   "id": "516905ca-482a-44b1-a472-8cd3538fa2ab",
   "metadata": {},
   "outputs": [],
   "source": []
  },
  {
   "cell_type": "code",
   "execution_count": null,
   "id": "9c37f4b4-b35a-472f-acd7-1a01b005ae8a",
   "metadata": {},
   "outputs": [],
   "source": []
  },
  {
   "cell_type": "code",
   "execution_count": null,
   "id": "136983ba-62dd-4248-853b-07444c38531e",
   "metadata": {},
   "outputs": [],
   "source": []
  },
  {
   "cell_type": "code",
   "execution_count": null,
   "id": "5721bb01-961b-425f-a35d-39cadd561862",
   "metadata": {},
   "outputs": [],
   "source": []
  },
  {
   "cell_type": "code",
   "execution_count": null,
   "id": "96b4ae65-598c-4344-87dd-8e6384b4209d",
   "metadata": {},
   "outputs": [],
   "source": []
  },
  {
   "cell_type": "code",
   "execution_count": null,
   "id": "4a6bbcee-642a-4236-92a5-7ddf957e89bc",
   "metadata": {},
   "outputs": [],
   "source": []
  },
  {
   "cell_type": "code",
   "execution_count": null,
   "id": "088d7075-0def-4e98-a128-dcb7c43a60d2",
   "metadata": {},
   "outputs": [],
   "source": []
  },
  {
   "cell_type": "code",
   "execution_count": null,
   "id": "0e2ad243-c58b-4efe-8b24-c7c55739f95e",
   "metadata": {},
   "outputs": [],
   "source": []
  },
  {
   "cell_type": "code",
   "execution_count": null,
   "id": "6b131a28-520e-4944-87c5-34762629a1a1",
   "metadata": {},
   "outputs": [],
   "source": []
  },
  {
   "cell_type": "code",
   "execution_count": null,
   "id": "056a58f5-b5fe-408c-84b8-ef02723fa9f6",
   "metadata": {},
   "outputs": [],
   "source": []
  },
  {
   "cell_type": "code",
   "execution_count": null,
   "id": "6fc380db-bab0-4d08-9821-0ed1af63ad9d",
   "metadata": {},
   "outputs": [],
   "source": []
  },
  {
   "cell_type": "code",
   "execution_count": null,
   "id": "664a23bf-297d-412f-aa3f-c8c7736d9ce8",
   "metadata": {},
   "outputs": [],
   "source": []
  },
  {
   "cell_type": "code",
   "execution_count": null,
   "id": "25d7e757-3cb9-4b1c-a11e-ad538446f099",
   "metadata": {},
   "outputs": [],
   "source": []
  },
  {
   "cell_type": "code",
   "execution_count": null,
   "id": "7daff2a1-6c2e-4349-92de-33c65dc06fff",
   "metadata": {},
   "outputs": [],
   "source": []
  },
  {
   "cell_type": "code",
   "execution_count": null,
   "id": "8070d40e-8de2-4b6d-a829-f18e954114de",
   "metadata": {},
   "outputs": [],
   "source": []
  },
  {
   "cell_type": "code",
   "execution_count": null,
   "id": "bca77502-c5db-4cc4-8924-1bebfd5a17d2",
   "metadata": {},
   "outputs": [],
   "source": []
  },
  {
   "cell_type": "code",
   "execution_count": null,
   "id": "1e791ddc-d7a7-4602-8534-28de594cbea1",
   "metadata": {},
   "outputs": [],
   "source": []
  },
  {
   "cell_type": "code",
   "execution_count": null,
   "id": "073ddd8e-4754-4928-a74d-7681e68f04c5",
   "metadata": {},
   "outputs": [],
   "source": []
  },
  {
   "cell_type": "code",
   "execution_count": null,
   "id": "745f80c2-bac7-4b12-a236-7a4cc5950a23",
   "metadata": {},
   "outputs": [],
   "source": []
  },
  {
   "cell_type": "code",
   "execution_count": null,
   "id": "a7187338-a8fa-4f2d-b4a2-f63f01567ce3",
   "metadata": {},
   "outputs": [],
   "source": []
  },
  {
   "cell_type": "code",
   "execution_count": null,
   "id": "ef4259ce-9c4d-4be7-affd-5c3f29f5cd16",
   "metadata": {},
   "outputs": [],
   "source": []
  },
  {
   "cell_type": "code",
   "execution_count": null,
   "id": "41e7e2e3-63e2-4a4d-aeb7-a68578380129",
   "metadata": {},
   "outputs": [],
   "source": []
  },
  {
   "cell_type": "code",
   "execution_count": null,
   "id": "7724c966-09b3-491b-b3e6-a6ec5fa31c7a",
   "metadata": {},
   "outputs": [],
   "source": []
  },
  {
   "cell_type": "code",
   "execution_count": null,
   "id": "5b744c58-edd4-4bc6-ba79-128fa0a37180",
   "metadata": {},
   "outputs": [],
   "source": []
  },
  {
   "cell_type": "code",
   "execution_count": null,
   "id": "11a0fd97-adc0-443e-8cde-ae54c8fa6065",
   "metadata": {},
   "outputs": [],
   "source": []
  },
  {
   "cell_type": "code",
   "execution_count": null,
   "id": "54e21079-a4b7-4eca-8697-445b64999b4a",
   "metadata": {},
   "outputs": [],
   "source": []
  },
  {
   "cell_type": "code",
   "execution_count": null,
   "id": "e968d956-77de-430e-9953-e8f8c76f5eae",
   "metadata": {},
   "outputs": [],
   "source": []
  },
  {
   "cell_type": "code",
   "execution_count": null,
   "id": "edddd9fe-395e-4ff2-9965-b48aec283e4a",
   "metadata": {},
   "outputs": [],
   "source": []
  },
  {
   "cell_type": "code",
   "execution_count": null,
   "id": "f8a86bd5-b8b7-4586-a830-cadf06164ad1",
   "metadata": {},
   "outputs": [],
   "source": []
  },
  {
   "cell_type": "code",
   "execution_count": null,
   "id": "f97037be-8aae-4a15-8b99-f9d730aaf59c",
   "metadata": {},
   "outputs": [],
   "source": []
  },
  {
   "cell_type": "code",
   "execution_count": null,
   "id": "9bc7764c-6a4f-4c88-8215-0c45ac3f005d",
   "metadata": {},
   "outputs": [],
   "source": []
  },
  {
   "cell_type": "code",
   "execution_count": null,
   "id": "f2a31bb9-c522-4e5d-8958-55fb87f1a81a",
   "metadata": {},
   "outputs": [],
   "source": []
  },
  {
   "cell_type": "code",
   "execution_count": null,
   "id": "eb94631f-b21b-4120-995a-1359cbfe5550",
   "metadata": {},
   "outputs": [],
   "source": []
  },
  {
   "cell_type": "code",
   "execution_count": null,
   "id": "32fe44c7-cb0a-4e76-94d3-3f79045f3f73",
   "metadata": {},
   "outputs": [],
   "source": []
  },
  {
   "cell_type": "code",
   "execution_count": null,
   "id": "1ef932a7-1ce5-49db-9f4c-4d2ba17260d7",
   "metadata": {},
   "outputs": [],
   "source": []
  },
  {
   "cell_type": "code",
   "execution_count": null,
   "id": "44b93871-a6d2-438d-889d-4b3fe203cd61",
   "metadata": {},
   "outputs": [],
   "source": []
  },
  {
   "cell_type": "code",
   "execution_count": null,
   "id": "07f7bbbe-e5f4-40da-b938-a386b726f428",
   "metadata": {},
   "outputs": [],
   "source": []
  },
  {
   "cell_type": "code",
   "execution_count": null,
   "id": "3f4d9974-db77-4b6e-a683-6d7ac8ebd92f",
   "metadata": {},
   "outputs": [],
   "source": []
  },
  {
   "cell_type": "code",
   "execution_count": null,
   "id": "93ad78f1-1cc8-4c08-8920-e0ceb5875ffb",
   "metadata": {},
   "outputs": [],
   "source": []
  },
  {
   "cell_type": "code",
   "execution_count": null,
   "id": "70523ac0-5989-45ca-ac87-0822748c3284",
   "metadata": {},
   "outputs": [],
   "source": []
  },
  {
   "cell_type": "code",
   "execution_count": null,
   "id": "e2fdbde0-7039-4904-81e0-66a57ef3717e",
   "metadata": {},
   "outputs": [],
   "source": []
  },
  {
   "cell_type": "code",
   "execution_count": null,
   "id": "58305497-602b-45df-8bf4-8c18fba196c1",
   "metadata": {},
   "outputs": [],
   "source": []
  },
  {
   "cell_type": "code",
   "execution_count": null,
   "id": "b5a310c2-4bab-45de-90ed-8baa3c071bea",
   "metadata": {},
   "outputs": [],
   "source": []
  },
  {
   "cell_type": "code",
   "execution_count": null,
   "id": "c9758ad7-ea7e-4220-ae89-481482cb64dc",
   "metadata": {},
   "outputs": [],
   "source": []
  },
  {
   "cell_type": "code",
   "execution_count": null,
   "id": "2a5efb64-d1a3-4d6f-9240-8076a21db36b",
   "metadata": {},
   "outputs": [],
   "source": []
  },
  {
   "cell_type": "code",
   "execution_count": null,
   "id": "d8f445f9-4bde-4903-91f7-41634f0713cc",
   "metadata": {},
   "outputs": [],
   "source": []
  },
  {
   "cell_type": "code",
   "execution_count": null,
   "id": "1b149f10-5e1f-4f5b-8655-453d93f189e4",
   "metadata": {},
   "outputs": [],
   "source": []
  },
  {
   "cell_type": "code",
   "execution_count": null,
   "id": "6658f481-e24a-4948-90ab-a7c639080e21",
   "metadata": {},
   "outputs": [],
   "source": []
  },
  {
   "cell_type": "code",
   "execution_count": null,
   "id": "1bb7f050-0040-4856-840b-a13d8144fb93",
   "metadata": {},
   "outputs": [],
   "source": []
  },
  {
   "cell_type": "code",
   "execution_count": null,
   "id": "f852761e-1dd4-4c11-858d-bdbe0e3598e9",
   "metadata": {},
   "outputs": [],
   "source": []
  },
  {
   "cell_type": "code",
   "execution_count": null,
   "id": "52e87eea-f2d7-4fc3-8c53-a3ce9290d3dd",
   "metadata": {},
   "outputs": [],
   "source": []
  },
  {
   "cell_type": "code",
   "execution_count": null,
   "id": "f3671453-efef-44d3-9faa-70fdcbefb1da",
   "metadata": {},
   "outputs": [],
   "source": []
  },
  {
   "cell_type": "code",
   "execution_count": null,
   "id": "aed816a4-cea9-447c-a1d4-1daed43f490f",
   "metadata": {},
   "outputs": [],
   "source": []
  },
  {
   "cell_type": "code",
   "execution_count": null,
   "id": "f00d87f3-562d-4ce0-b348-f71a4bde83f8",
   "metadata": {},
   "outputs": [],
   "source": []
  },
  {
   "cell_type": "code",
   "execution_count": null,
   "id": "a18b45ee-ad0a-4708-bd7a-a75cfe763cfb",
   "metadata": {},
   "outputs": [],
   "source": []
  },
  {
   "cell_type": "code",
   "execution_count": null,
   "id": "172017ff-5917-418d-ad26-7356e9f2a896",
   "metadata": {},
   "outputs": [],
   "source": []
  },
  {
   "cell_type": "code",
   "execution_count": null,
   "id": "4c912aaf-87b3-4aa0-96ed-3588a38f0fdc",
   "metadata": {},
   "outputs": [],
   "source": []
  },
  {
   "cell_type": "code",
   "execution_count": null,
   "id": "71090294-4bec-4c91-b3e7-a8538662173c",
   "metadata": {},
   "outputs": [],
   "source": []
  },
  {
   "cell_type": "code",
   "execution_count": null,
   "id": "abf24dc6-d00b-4c55-bfa5-d2557eeccfed",
   "metadata": {},
   "outputs": [],
   "source": []
  },
  {
   "cell_type": "code",
   "execution_count": null,
   "id": "b486851d-081b-46d2-aa63-b970f8c4327b",
   "metadata": {},
   "outputs": [],
   "source": []
  },
  {
   "cell_type": "code",
   "execution_count": null,
   "id": "6ffd94ef-014f-44ce-81a6-21be35a68afa",
   "metadata": {},
   "outputs": [],
   "source": []
  },
  {
   "cell_type": "code",
   "execution_count": null,
   "id": "97a9107e-f32a-4d75-a898-78e60d506e44",
   "metadata": {},
   "outputs": [],
   "source": []
  },
  {
   "cell_type": "code",
   "execution_count": null,
   "id": "27f1ffc7-340c-48dd-915f-d2f44f7ef861",
   "metadata": {},
   "outputs": [],
   "source": []
  },
  {
   "cell_type": "code",
   "execution_count": null,
   "id": "c5f5acf6-c90f-4ff9-a456-5342e6265653",
   "metadata": {},
   "outputs": [],
   "source": []
  },
  {
   "cell_type": "code",
   "execution_count": null,
   "id": "a8bc61da-b866-49d1-881f-6272a43ece97",
   "metadata": {},
   "outputs": [],
   "source": []
  },
  {
   "cell_type": "code",
   "execution_count": null,
   "id": "6c2f468b-498d-435b-87ba-740fc08485ae",
   "metadata": {},
   "outputs": [],
   "source": []
  },
  {
   "cell_type": "code",
   "execution_count": null,
   "id": "0bc67d5d-dbba-43eb-acf3-6cd567572345",
   "metadata": {},
   "outputs": [],
   "source": []
  },
  {
   "cell_type": "code",
   "execution_count": null,
   "id": "56c85eaa-56ab-4f53-84ee-f929c9fdcb1e",
   "metadata": {},
   "outputs": [],
   "source": []
  },
  {
   "cell_type": "code",
   "execution_count": null,
   "id": "267b2e25-5125-4259-b421-f7c1e4f62f7e",
   "metadata": {},
   "outputs": [],
   "source": []
  },
  {
   "cell_type": "code",
   "execution_count": null,
   "id": "b1950e5b-f861-45f7-9e3e-dae835202ec9",
   "metadata": {},
   "outputs": [],
   "source": []
  },
  {
   "cell_type": "code",
   "execution_count": null,
   "id": "dfc82564-46d9-4fa4-a38e-846a3efe61df",
   "metadata": {},
   "outputs": [],
   "source": []
  },
  {
   "cell_type": "code",
   "execution_count": null,
   "id": "91e31685-810c-41d3-bd1e-b421c4577324",
   "metadata": {},
   "outputs": [],
   "source": []
  }
 ],
 "metadata": {
  "kernelspec": {
   "display_name": "Python 3 (ipykernel)",
   "language": "python",
   "name": "python3"
  },
  "language_info": {
   "codemirror_mode": {
    "name": "ipython",
    "version": 3
   },
   "file_extension": ".py",
   "mimetype": "text/x-python",
   "name": "python",
   "nbconvert_exporter": "python",
   "pygments_lexer": "ipython3",
   "version": "3.12.4"
  }
 },
 "nbformat": 4,
 "nbformat_minor": 5
}
